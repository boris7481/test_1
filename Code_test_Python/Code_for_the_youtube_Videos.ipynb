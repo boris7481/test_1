{
 "cells": [
  {
   "cell_type": "code",
   "execution_count": 1,
   "metadata": {},
   "outputs": [],
   "source": [
    "def income_money(money_per_hour, number_of_day):\n",
    "    result = (money_per_hour * 10.45) * number_of_day + number_of_day*6\n",
    "    return result"
   ]
  },
  {
   "cell_type": "code",
   "execution_count": 2,
   "metadata": {},
   "outputs": [
    {
     "data": {
      "text/plain": [
       "1792.0"
      ]
     },
     "execution_count": 2,
     "metadata": {},
     "output_type": "execute_result"
    }
   ],
   "source": [
    "income_money(8 , 20)"
   ]
  },
  {
   "cell_type": "markdown",
   "metadata": {},
   "source": [
    "### 50 Python Tipp and trick"
   ]
  },
  {
   "cell_type": "code",
   "execution_count": 3,
   "metadata": {},
   "outputs": [
    {
     "name": "stdout",
     "output_type": "stream",
     "text": [
      "5 10\n"
     ]
    }
   ],
   "source": [
    "a , b = 5 , 10\n",
    "print(a , b)"
   ]
  },
  {
   "cell_type": "code",
   "execution_count": 4,
   "metadata": {},
   "outputs": [],
   "source": [
    "import webbrowser\n",
    "# webbrowser.open(\"https://www.oth-regensburg.de/\")# will open this website"
   ]
  },
  {
   "cell_type": "code",
   "execution_count": 5,
   "metadata": {},
   "outputs": [
    {
     "name": "stdout",
     "output_type": "stream",
     "text": [
      " this is a reallylong string\n"
     ]
    }
   ],
   "source": [
    "msg = \" this is a really\" \\\n",
    "    \"long string\"\n",
    "print(msg)"
   ]
  },
  {
   "cell_type": "code",
   "execution_count": 6,
   "metadata": {},
   "outputs": [
    {
     "name": "stdout",
     "output_type": "stream",
     "text": [
      "0\n"
     ]
    }
   ],
   "source": [
    "if \"you\" in \"youtube\":\n",
    "    print(\"youtube\".index(\"you\"))"
   ]
  },
  {
   "cell_type": "code",
   "execution_count": 7,
   "metadata": {},
   "outputs": [
    {
     "name": "stdout",
     "output_type": "stream",
     "text": [
      "2516940462144\n",
      "2516940462144\n",
      "{'boris': 1, 'hermann': 10}\n"
     ]
    }
   ],
   "source": [
    "data1 = {\"boris\" : 1}\n",
    "data2 = data1\n",
    "data2[\"hermann\"] = 10\n",
    "print(id(data1))\n",
    "print(id(data2))\n",
    "print(data2)"
   ]
  },
  {
   "cell_type": "code",
   "execution_count": 8,
   "metadata": {},
   "outputs": [],
   "source": [
    "def change_list(data):\n",
    "    data = [\"new\"]"
   ]
  },
  {
   "cell_type": "code",
   "execution_count": 9,
   "metadata": {},
   "outputs": [],
   "source": [
    "def change_list_data(data):\n",
    "    data[:] = [\"new\"]"
   ]
  },
  {
   "cell_type": "code",
   "execution_count": 10,
   "metadata": {},
   "outputs": [],
   "source": [
    "name = \"boris\"\n",
    "age = 20\n",
    "liste1 = [\"python\" , \"java\" , \"c++\"]"
   ]
  },
  {
   "cell_type": "code",
   "execution_count": 11,
   "metadata": {},
   "outputs": [
    {
     "name": "stdout",
     "output_type": "stream",
     "text": [
      "boris 20 ['python', 'java', 'c++']\n"
     ]
    }
   ],
   "source": [
    "print(name , age, liste1)"
   ]
  },
  {
   "cell_type": "code",
   "execution_count": 12,
   "metadata": {},
   "outputs": [],
   "source": [
    "reputation = 20\n",
    "status = None\n",
    "status = \"admin\" if reputation > 15 else \"user\""
   ]
  },
  {
   "cell_type": "code",
   "execution_count": 13,
   "metadata": {},
   "outputs": [
    {
     "name": "stdout",
     "output_type": "stream",
     "text": [
      "admin\n"
     ]
    }
   ],
   "source": [
    "print(status)"
   ]
  },
  {
   "cell_type": "code",
   "execution_count": 14,
   "metadata": {},
   "outputs": [],
   "source": [
    "def move_position(x, y, z):\n",
    "    print(f\" moving caracter to {x} {y} {z} \")"
   ]
  },
  {
   "cell_type": "code",
   "execution_count": 15,
   "metadata": {},
   "outputs": [
    {
     "name": "stdout",
     "output_type": "stream",
     "text": [
      " moving caracter to 10 20 30 \n"
     ]
    }
   ],
   "source": [
    "data = [10 , 20,  30]\n",
    "move_position(*data) # data unpacting"
   ]
  },
  {
   "cell_type": "code",
   "execution_count": 16,
   "metadata": {},
   "outputs": [],
   "source": [
    "def move_position_1(x, y, z):\n",
    "    pass"
   ]
  },
  {
   "cell_type": "code",
   "execution_count": 17,
   "metadata": {},
   "outputs": [
    {
     "name": "stdout",
     "output_type": "stream",
     "text": [
      "{'python', 'pythonfortran', 'c++', 'java'}\n"
     ]
    }
   ],
   "source": [
    "liste2 = [\"python\" , \"java\" , \"c++\" ,\"python\" \"fortran\" , \"c++\" , \"java\"]\n",
    "print(set(liste2))# a set doesnt have a duplicate"
   ]
  },
  {
   "cell_type": "code",
   "execution_count": 18,
   "metadata": {},
   "outputs": [
    {
     "name": "stdout",
     "output_type": "stream",
     "text": [
      "['python', 'pythonfortran', 'c++', 'java']\n"
     ]
    }
   ],
   "source": [
    "liste2 = [\"python\" , \"java\" , \"c++\" ,\"python\" \"fortran\" , \"c++\" , \"java\"]\n",
    "print(list(set(liste2)))# a set doesnt have a duplicate"
   ]
  },
  {
   "cell_type": "code",
   "execution_count": 19,
   "metadata": {},
   "outputs": [
    {
     "name": "stdout",
     "output_type": "stream",
     "text": [
      "cancel\n"
     ]
    }
   ],
   "source": [
    "weather = \"sonny\"\n",
    "if weather in [\"sonny\" , \"stormy\" , \"snowy\"]:\n",
    "    print(\"cancel\")"
   ]
  },
  {
   "cell_type": "code",
   "execution_count": 20,
   "metadata": {},
   "outputs": [
    {
     "data": {
      "text/plain": [
       "'BORIS THIBAUT'"
      ]
     },
     "execution_count": 20,
     "metadata": {},
     "output_type": "execute_result"
    }
   ],
   "source": [
    "Names = [\"boris\" , \"Thibaut\"]\n",
    "full_name = \" \".join(Names).upper()\n",
    "full_name"
   ]
  },
  {
   "cell_type": "code",
   "execution_count": 21,
   "metadata": {},
   "outputs": [
    {
     "data": {
      "text/plain": [
       "'boris thibaut'"
      ]
     },
     "execution_count": 21,
     "metadata": {},
     "output_type": "execute_result"
    }
   ],
   "source": [
    "Names = [\"boris\" , \"Thibaut\"]\n",
    "full_name = \" \".join(Names).lower()\n",
    "full_name"
   ]
  },
  {
   "cell_type": "code",
   "execution_count": 22,
   "metadata": {},
   "outputs": [
    {
     "data": {
      "text/plain": [
       "'Boris Thibaut'"
      ]
     },
     "execution_count": 22,
     "metadata": {},
     "output_type": "execute_result"
    }
   ],
   "source": [
    "Names = [\"boris\" , \"Thibaut\"]\n",
    "full_name = \" \".join(Names).title()\n",
    "full_name"
   ]
  },
  {
   "cell_type": "code",
   "execution_count": 24,
   "metadata": {},
   "outputs": [],
   "source": [
    "# while True:\n",
    "#    print(\"do something\")\n",
    "#    if condition:\n",
    "#        break"
   ]
  },
  {
   "cell_type": "markdown",
   "metadata": {},
   "source": [
    "## Python Courae Youtube 12 hour coding"
   ]
  },
  {
   "cell_type": "code",
   "execution_count": 23,
   "metadata": {},
   "outputs": [],
   "source": [
    "boris = 30\n",
    "thibaut = 30\n",
    "junior = 30"
   ]
  },
  {
   "cell_type": "code",
   "execution_count": 24,
   "metadata": {},
   "outputs": [
    {
     "name": "stdout",
     "output_type": "stream",
     "text": [
      "30\n",
      "30\n",
      "30\n"
     ]
    }
   ],
   "source": [
    "print(boris)\n",
    "print(thibaut)\n",
    "print(junior)"
   ]
  },
  {
   "cell_type": "code",
   "execution_count": 25,
   "metadata": {},
   "outputs": [],
   "source": [
    "boris = thibaut = junior = 20"
   ]
  },
  {
   "cell_type": "code",
   "execution_count": 26,
   "metadata": {},
   "outputs": [
    {
     "name": "stdout",
     "output_type": "stream",
     "text": [
      "20\n",
      "20\n",
      "20\n"
     ]
    }
   ],
   "source": [
    "print(boris)\n",
    "print(thibaut)\n",
    "print(junior)"
   ]
  },
  {
   "cell_type": "code",
   "execution_count": 27,
   "metadata": {},
   "outputs": [
    {
     "name": "stdout",
     "output_type": "stream",
     "text": [
      "how old are you :20\n",
      "you are an adult\n"
     ]
    }
   ],
   "source": [
    "age = int(input(\"how old are you :\"))\n",
    "if age >= 18:# that will be check first\n",
    "    print(\"you are an adult\")\n",
    "elif age == 100:\n",
    "    print(\"you are a century old\")\n",
    "elif age < 0:\n",
    "    print(\"you have been born yet\")\n",
    "else:\n",
    "    print(\"you are a child\")"
   ]
  },
  {
   "cell_type": "code",
   "execution_count": 28,
   "metadata": {},
   "outputs": [
    {
     "name": "stdout",
     "output_type": "stream",
     "text": [
      "how old are you :10\n",
      "you are an adult\n"
     ]
    }
   ],
   "source": [
    "age = int(input(\"how old are you :\"))\n",
    "\n",
    "if age == 100:# that will be check first\n",
    "    print(\"you are a century old\")\n",
    "elif age >=  10:\n",
    "    print(\"you are an adult\")\n",
    "elif age < 0:\n",
    "    print(\"you have been born yet\")\n",
    "else:\n",
    "    print(\"you are a child\")"
   ]
  },
  {
   "cell_type": "code",
   "execution_count": 29,
   "metadata": {},
   "outputs": [
    {
     "name": "stdout",
     "output_type": "stream",
     "text": [
      "Enter your name:junior\n",
      "hello junior\n"
     ]
    }
   ],
   "source": [
    "name = \"\"\n",
    "while len(name) == 0:\n",
    "    name = input(\"Enter your name:\")\n",
    "    print(\"hello\" + \" \" + name)"
   ]
  },
  {
   "cell_type": "code",
   "execution_count": 30,
   "metadata": {},
   "outputs": [
    {
     "name": "stdout",
     "output_type": "stream",
     "text": [
      "how many rows :4\n",
      "how manx columns:4\n",
      " Enter a symbol:#\n",
      "####\n",
      "####\n",
      "####\n",
      "####\n"
     ]
    }
   ],
   "source": [
    "# Nated loops = the inner loop will finish all of its iterations before finishing one ieration of\n",
    "# the outer loop\n",
    "rows =int(input(\"how many rows :\"))\n",
    "columns = int(input(\"how manx columns:\"))\n",
    "symbol = input(\" Enter a symbol:\")\n",
    "\n",
    "for i in range(rows):\n",
    "    for j in range(columns):\n",
    "        print(symbol , end =\"\" )\n",
    "    print()"
   ]
  },
  {
   "cell_type": "code",
   "execution_count": 31,
   "metadata": {},
   "outputs": [
    {
     "name": "stdout",
     "output_type": "stream",
     "text": [
      "how many rows :2\n",
      "how manx columns:2\n",
      " Enter a symbol:#\n",
      "#\n",
      "#\n",
      "\n",
      "#\n",
      "#\n",
      "\n"
     ]
    }
   ],
   "source": [
    "# Nated loops = the inner loop will finish all of its iterations before finishing one ieration of\n",
    "# the outer loop\n",
    "rows =int(input(\"how many rows :\"))\n",
    "columns = int(input(\"how manx columns:\"))\n",
    "symbol = input(\" Enter a symbol:\")\n",
    "\n",
    "for i in range(rows):\n",
    "    for j in range(columns):\n",
    "        print(symbol)\n",
    "    print()"
   ]
  },
  {
   "cell_type": "code",
   "execution_count": 32,
   "metadata": {},
   "outputs": [
    {
     "name": "stdout",
     "output_type": "stream",
     "text": [
      "Enter your name:junior\n"
     ]
    }
   ],
   "source": [
    "# loop control Statements = change a loops execution from its normal sequence\n",
    "# break = use to terminate the loop entirely\n",
    "# continue = skip to the next iteration of the loop\n",
    "# pass = does nothing, acts as a placeholder\n",
    "while True:\n",
    "    name = input(\"Enter your name:\")\n",
    "    if name != \"\": # \"\" ist the empty string and is different from \" \" hier we have a white space\n",
    "        break"
   ]
  },
  {
   "cell_type": "code",
   "execution_count": 34,
   "metadata": {},
   "outputs": [
    {
     "name": "stdout",
     "output_type": "stream",
     "text": [
      "5\n"
     ]
    }
   ],
   "source": [
    "phone_number = \"74-81-46-15\"\n",
    "for i in phone_number:\n",
    "    if i == \"-\":\n",
    "        continue\n",
    "print(i) # print only the last value\n"
   ]
  },
  {
   "cell_type": "code",
   "execution_count": 35,
   "metadata": {},
   "outputs": [
    {
     "name": "stdout",
     "output_type": "stream",
     "text": [
      "7\n",
      "4\n",
      "8\n",
      "1\n",
      "4\n",
      "6\n",
      "1\n",
      "5\n"
     ]
    }
   ],
   "source": [
    "phone_number = \"74-81-46-15\"\n",
    "for i in phone_number:\n",
    "    if i == \"-\":\n",
    "        continue\n",
    "    print(i) # print line by line"
   ]
  },
  {
   "cell_type": "code",
   "execution_count": 36,
   "metadata": {},
   "outputs": [
    {
     "name": "stdout",
     "output_type": "stream",
     "text": [
      "74814615"
     ]
    }
   ],
   "source": [
    "phone_number = \"74-81-46-15\"\n",
    "for i in phone_number:\n",
    "    if i == \"-\":\n",
    "        continue\n",
    "    print(i, end=\"\") # print all the caracters in one line"
   ]
  },
  {
   "cell_type": "code",
   "execution_count": 39,
   "metadata": {},
   "outputs": [
    {
     "name": "stdout",
     "output_type": "stream",
     "text": [
      "1\n",
      "2\n",
      "3\n",
      "4\n"
     ]
    }
   ],
   "source": [
    "for i in range(1, 5):\n",
    "    if i == 2:\n",
    "        pass\n",
    "    print(i)"
   ]
  },
  {
   "cell_type": "code",
   "execution_count": 40,
   "metadata": {},
   "outputs": [
    {
     "name": "stdout",
     "output_type": "stream",
     "text": [
      "4\n"
     ]
    }
   ],
   "source": [
    "for i in range(1, 5):\n",
    "    if i == 2:\n",
    "        pass\n",
    "print(i)"
   ]
  },
  {
   "cell_type": "code",
   "execution_count": 41,
   "metadata": {},
   "outputs": [
    {
     "name": "stdout",
     "output_type": "stream",
     "text": [
      "1234"
     ]
    }
   ],
   "source": [
    "for i in range(1, 5):\n",
    "    if i == 2:\n",
    "        pass\n",
    "    print(i, end=\"\")"
   ]
  },
  {
   "cell_type": "code",
   "execution_count": 42,
   "metadata": {},
   "outputs": [],
   "source": [
    "#2D list = a list of a list\n",
    "name =[\"boris\" , \"thibaut\" , \"junior\"]\n",
    "City = [\"younde\" , \"douala\" , \"Bafang\"]\n",
    "Country = [\"Cameroun\" , \"Germany\" , \"Gabon\"]"
   ]
  },
  {
   "cell_type": "code",
   "execution_count": 43,
   "metadata": {},
   "outputs": [
    {
     "name": "stdout",
     "output_type": "stream",
     "text": [
      "[['boris', 'thibaut', 'junior'], ['younde', 'douala', 'Bafang'], ['Cameroun', 'Germany', 'Gabon']]\n"
     ]
    }
   ],
   "source": [
    "final = [name , City , Country]\n",
    "print(final)"
   ]
  },
  {
   "cell_type": "code",
   "execution_count": 44,
   "metadata": {},
   "outputs": [
    {
     "name": "stdout",
     "output_type": "stream",
     "text": [
      "thibaut\n"
     ]
    }
   ],
   "source": [
    "print(final[0][1])"
   ]
  },
  {
   "cell_type": "code",
   "execution_count": 45,
   "metadata": {},
   "outputs": [],
   "source": [
    "dictionary = {\"name\" : \"boris\",\n",
    "              \"city\" : \"younde\",\n",
    "              \"age\" : 30\n",
    "             }"
   ]
  },
  {
   "cell_type": "code",
   "execution_count": 46,
   "metadata": {},
   "outputs": [
    {
     "name": "stdout",
     "output_type": "stream",
     "text": [
      "None\n"
     ]
    }
   ],
   "source": [
    "print(dictionary.get(\"country\"))# better way to check if you have a key in your Dictionary"
   ]
  },
  {
   "cell_type": "code",
   "execution_count": 47,
   "metadata": {},
   "outputs": [
    {
     "data": {
      "text/plain": [
       "dict_keys(['name', 'city', 'age'])"
      ]
     },
     "execution_count": 47,
     "metadata": {},
     "output_type": "execute_result"
    }
   ],
   "source": [
    "dictionary.keys()"
   ]
  },
  {
   "cell_type": "code",
   "execution_count": 48,
   "metadata": {},
   "outputs": [
    {
     "data": {
      "text/plain": [
       "dict_values(['boris', 'younde', 30])"
      ]
     },
     "execution_count": 48,
     "metadata": {},
     "output_type": "execute_result"
    }
   ],
   "source": [
    "dictionary.values()"
   ]
  },
  {
   "cell_type": "code",
   "execution_count": 49,
   "metadata": {},
   "outputs": [
    {
     "data": {
      "text/plain": [
       "dict_items([('name', 'boris'), ('city', 'younde'), ('age', 30)])"
      ]
     },
     "execution_count": 49,
     "metadata": {},
     "output_type": "execute_result"
    }
   ],
   "source": [
    "dictionary.items()"
   ]
  },
  {
   "cell_type": "code",
   "execution_count": 50,
   "metadata": {},
   "outputs": [
    {
     "name": "stdout",
     "output_type": "stream",
     "text": [
      "name boris\n",
      "city younde\n",
      "age 30\n"
     ]
    }
   ],
   "source": [
    "for key , value in dictionary.items():\n",
    "    print(key, value)"
   ]
  },
  {
   "cell_type": "code",
   "execution_count": 51,
   "metadata": {},
   "outputs": [],
   "source": [
    "def add(*args):\n",
    "    summe = 0\n",
    "    for i in args:\n",
    "        summe += i\n",
    "        print(i)\n",
    "        print(summe)\n",
    "    return summe\n",
    "# * args = parameters that will pack all arguments into a tuple\n",
    "# useful so that a function can accept everything amount ofarguments"
   ]
  },
  {
   "cell_type": "code",
   "execution_count": 52,
   "metadata": {},
   "outputs": [
    {
     "name": "stdout",
     "output_type": "stream",
     "text": [
      "1\n",
      "1\n",
      "2\n",
      "3\n",
      "3\n",
      "6\n",
      "4\n",
      "10\n",
      "10\n"
     ]
    }
   ],
   "source": [
    "print(add(1, 2, 3, 4))"
   ]
  },
  {
   "cell_type": "code",
   "execution_count": 54,
   "metadata": {},
   "outputs": [],
   "source": [
    "def add(*args):\n",
    "    summe = 0\n",
    "    for i in args:\n",
    "        summe += i\n",
    "    print(i)\n",
    "    print(summe)\n",
    "    return summe\n",
    "# * args = parameters that will pack all arguments into a tuple\n",
    "# useful so that a function can accept everything amount ofarguments"
   ]
  },
  {
   "cell_type": "code",
   "execution_count": 55,
   "metadata": {},
   "outputs": [
    {
     "name": "stdout",
     "output_type": "stream",
     "text": [
      "4\n",
      "10\n",
      "10\n"
     ]
    }
   ],
   "source": [
    "print(add(1, 2, 3, 4))"
   ]
  },
  {
   "cell_type": "code",
   "execution_count": 64,
   "metadata": {},
   "outputs": [],
   "source": [
    "def add(*args):\n",
    "    summe = 0\n",
    "    args = list(args) # casting\n",
    "    for i in args:\n",
    "        summe += i\n",
    "    return summe"
   ]
  },
  {
   "cell_type": "code",
   "execution_count": 65,
   "metadata": {},
   "outputs": [
    {
     "name": "stdout",
     "output_type": "stream",
     "text": [
      "10\n"
     ]
    }
   ],
   "source": [
    "print(add(1, 2, 3, 4))"
   ]
  },
  {
   "cell_type": "code",
   "execution_count": 56,
   "metadata": {},
   "outputs": [],
   "source": [
    "# *kwargs = parameter that will pack all arguments into dictionary \n",
    "# useful so that a function can accept a varying amount of keyword argument"
   ]
  },
  {
   "cell_type": "code",
   "execution_count": 57,
   "metadata": {},
   "outputs": [
    {
     "name": "stdout",
     "output_type": "stream",
     "text": [
      "Enter a number to divide :50\n",
      "Enter a number to divide by:12\n"
     ]
    }
   ],
   "source": [
    "# Exeption = events detected during execution that interrupt the flow of a programm\n",
    "try:\n",
    "    numerator = int(input(\"Enter a number to divide :\"))\n",
    "    denominator = int(input(\"Enter a number to divide by:\"))\n",
    "    result = numerator/denominator\n",
    "except ZeroDivisionError:\n",
    "    print(\"you cannot divide by zero idiot \")\n",
    "except ValueError:\n",
    "    print(\"Enter only a number\")\n",
    "except Exception:\n",
    "    print(\"something went wrong:\")"
   ]
  },
  {
   "cell_type": "code",
   "execution_count": 58,
   "metadata": {},
   "outputs": [
    {
     "name": "stdout",
     "output_type": "stream",
     "text": [
      "Enter a number to divide :12\n",
      "Enter a number to divide by:14\n"
     ]
    }
   ],
   "source": [
    "# Exeption = events detected during execution that interrupt the flow of a programm\n",
    "try:\n",
    "    numerator = int(input(\"Enter a number to divide :\"))\n",
    "    denominator = int(input(\"Enter a number to divide by:\"))\n",
    "    result = numerator/denominator\n",
    "except ZeroDivisionError as e:\n",
    "    print(e)\n",
    "    print(\"you cannot divide by zero idiot \")\n",
    "except ValueError as e:\n",
    "    print(e)\n",
    "    print(\"Enter only a number\")\n",
    "except Exception as e:\n",
    "    print(e)\n",
    "    print(\"something went wrong:\")"
   ]
  },
  {
   "cell_type": "code",
   "execution_count": 59,
   "metadata": {},
   "outputs": [
    {
     "name": "stdout",
     "output_type": "stream",
     "text": [
      "Enter a number to divide :15\n",
      "Enter a number to divide by:25\n",
      "0.6\n"
     ]
    }
   ],
   "source": [
    "# Exeption = events detected during execution that interrupt the flow of a programm\n",
    "try:\n",
    "    numerator = int(input(\"Enter a number to divide :\"))\n",
    "    denominator = int(input(\"Enter a number to divide by:\"))\n",
    "    result = numerator/denominator\n",
    "except ZeroDivisionError as e:\n",
    "    print(e)\n",
    "    print(\"you cannot divide by zero idiot \")\n",
    "except ValueError as e:\n",
    "    print(e)\n",
    "    print(\"Enter only a number\")\n",
    "except Exception as e:\n",
    "    print(e)\n",
    "    print(\"something went wrong:\")\n",
    "else:\n",
    "    print(result)"
   ]
  },
  {
   "cell_type": "code",
   "execution_count": 60,
   "metadata": {},
   "outputs": [
    {
     "name": "stdout",
     "output_type": "stream",
     "text": [
      "Enter a number to divide :12\n",
      "Enter a number to divide by:14\n",
      "0.8571428571428571\n",
      "this will be always execute\n"
     ]
    }
   ],
   "source": [
    "# Exeption = events detected during execution that interrupt the flow of a programm\n",
    "try:\n",
    "    numerator = int(input(\"Enter a number to divide :\"))\n",
    "    denominator = int(input(\"Enter a number to divide by:\"))\n",
    "    result = numerator/denominator\n",
    "except ZeroDivisionError as e:\n",
    "    print(e)\n",
    "    print(\"you cannot divide by zero idiot \")\n",
    "except ValueError as e:\n",
    "    print(e)\n",
    "    print(\"Enter only a number\")\n",
    "except Exception as e:\n",
    "    print(e)\n",
    "    print(\"something went wrong:\")\n",
    "else:\n",
    "    print(result)\n",
    "finally:\n",
    "    print(\"this will be always execute\")"
   ]
  },
  {
   "cell_type": "code",
   "execution_count": 61,
   "metadata": {},
   "outputs": [],
   "source": [
    "import os"
   ]
  },
  {
   "cell_type": "code",
   "execution_count": 62,
   "metadata": {},
   "outputs": [
    {
     "name": "stdout",
     "output_type": "stream",
     "text": [
      "this location does not exist\n"
     ]
    }
   ],
   "source": [
    "path = \"C:\\\\Users\\\\Tondjua\\\\Desktop\\\\text.txt\"\n",
    "if os.path.exists(path):\n",
    "    print(\"this location exist\")\n",
    "else:\n",
    "    print(\"this location does not exist\")"
   ]
  },
  {
   "cell_type": "code",
   "execution_count": 63,
   "metadata": {},
   "outputs": [
    {
     "name": "stdout",
     "output_type": "stream",
     "text": [
      "this location does not exist\n"
     ]
    }
   ],
   "source": [
    "path = \"C:\\\\Users\\\\Tondjua Thibaut\\\\Desktop\\\\Text.txt\"\n",
    "if os.path.exists(path):\n",
    "    print(\"this location exist\")\n",
    "    if os.path.isfile:\n",
    "        print(\"this is a file\")\n",
    "else:\n",
    "    print(\"this location does not exist\")"
   ]
  },
  {
   "cell_type": "code",
   "execution_count": 64,
   "metadata": {},
   "outputs": [],
   "source": [
    "# Higher Order Function = a function that either :\n",
    "#                        1. accepts a function as an argument \n",
    "#                        or\n",
    "#                        2. returns a function\n",
    "#                       (In python , functions are also treated as object)"
   ]
  },
  {
   "cell_type": "code",
   "execution_count": 65,
   "metadata": {},
   "outputs": [],
   "source": [
    "def loud(text):\n",
    "    return text.upper()\n",
    "def quiet(text):\n",
    "    return text.lower()\n",
    "def hello(func):\n",
    "    text = func(\"hello\")\n",
    "    print(text)"
   ]
  },
  {
   "cell_type": "code",
   "execution_count": 66,
   "metadata": {},
   "outputs": [
    {
     "name": "stdout",
     "output_type": "stream",
     "text": [
      "<function hello at 0x0000024A05573820>\n",
      "HELLO\n",
      "hello\n"
     ]
    }
   ],
   "source": [
    "print(hello)\n",
    "hello(loud)\n",
    "hello(quiet)"
   ]
  },
  {
   "cell_type": "code",
   "execution_count": 67,
   "metadata": {},
   "outputs": [],
   "source": [
    "# Lambda expression = function written in 1 line using lambda keyword\n",
    "#                   accept any number of arguments, but only have one expression\n",
    "#                  (think of it as a schortcut)\n",
    "#                  (useful if needed for a short period of time , throw away)"
   ]
  },
  {
   "cell_type": "code",
   "execution_count": 68,
   "metadata": {},
   "outputs": [
    {
     "name": "stdout",
     "output_type": "stream",
     "text": [
      "4\n"
     ]
    }
   ],
   "source": [
    "double = lambda x : x + 2\n",
    "print(double(2))"
   ]
  },
  {
   "cell_type": "code",
   "execution_count": 69,
   "metadata": {},
   "outputs": [
    {
     "name": "stdout",
     "output_type": "stream",
     "text": [
      "boris junior\n"
     ]
    }
   ],
   "source": [
    "full_name = lambda first_name , last_name : first_name + \" \" + last_name\n",
    "print(full_name(\"boris\" , \"junior\"))"
   ]
  },
  {
   "cell_type": "code",
   "execution_count": 70,
   "metadata": {},
   "outputs": [
    {
     "name": "stdout",
     "output_type": "stream",
     "text": [
      "False\n"
     ]
    }
   ],
   "source": [
    "age_check = lambda age: True if age >= 18 else False\n",
    "print(age_check(10))"
   ]
  },
  {
   "cell_type": "code",
   "execution_count": 71,
   "metadata": {},
   "outputs": [],
   "source": [
    "students = [(\"Tondjua\" , \"B\", 10), (\"Boris\", \"A\" ,  20) ,(\"Junior\", \"D\" , 40), (\"Thibaut\" , \"F\" , 55)]\n",
    "students.sort()"
   ]
  },
  {
   "cell_type": "code",
   "execution_count": 72,
   "metadata": {},
   "outputs": [
    {
     "name": "stdout",
     "output_type": "stream",
     "text": [
      "[('Boris', 'A', 20), ('Junior', 'D', 40), ('Thibaut', 'F', 55), ('Tondjua', 'B', 10)]\n"
     ]
    }
   ],
   "source": [
    "print(students)"
   ]
  },
  {
   "cell_type": "code",
   "execution_count": 73,
   "metadata": {},
   "outputs": [
    {
     "name": "stdout",
     "output_type": "stream",
     "text": [
      "('Boris', 'A', 20)\n",
      "('Tondjua', 'B', 10)\n",
      "('Junior', 'D', 40)\n",
      "('Thibaut', 'F', 55)\n"
     ]
    }
   ],
   "source": [
    "grade = lambda grades : grades[1]\n",
    "students.sort(key = grade)\n",
    "for i in students:\n",
    "    print(i)"
   ]
  },
  {
   "cell_type": "code",
   "execution_count": 74,
   "metadata": {},
   "outputs": [
    {
     "name": "stdout",
     "output_type": "stream",
     "text": [
      "('Tondjua', 'B', 10)\n",
      "('Boris', 'A', 20)\n",
      "('Junior', 'D', 40)\n",
      "('Thibaut', 'F', 55)\n"
     ]
    }
   ],
   "source": [
    "age = lambda ages : ages[2]\n",
    "students.sort(key = age)\n",
    "for i in students:\n",
    "    print(i)"
   ]
  },
  {
   "cell_type": "code",
   "execution_count": 75,
   "metadata": {},
   "outputs": [
    {
     "name": "stdout",
     "output_type": "stream",
     "text": [
      "('Thibaut', 'F', 55)\n",
      "('Junior', 'D', 40)\n",
      "('Boris', 'A', 20)\n",
      "('Tondjua', 'B', 10)\n"
     ]
    }
   ],
   "source": [
    "age = lambda ages : ages[2]\n",
    "students.sort(key = age, reverse = True)\n",
    "for i in students:\n",
    "    print(i)"
   ]
  },
  {
   "cell_type": "code",
   "execution_count": 76,
   "metadata": {},
   "outputs": [
    {
     "name": "stdout",
     "output_type": "stream",
     "text": [
      "('shirt', 16.4)\n",
      "('pants', 20.5)\n",
      "('jacket', 41.0)\n",
      "('socks', 8.2)\n"
     ]
    }
   ],
   "source": [
    "# map() = applies a function to each item in an iterable(list , tuple, ect...)\n",
    "# map(function, iterable)\n",
    "store = [(\"shirt\", 20) , (\"pants\", 25) , (\"jacket\", 50) , (\"socks\", 10)]\n",
    "to_eure = lambda data : (data[0] , data[1]*0.82)\n",
    "store_euros = map(to_eure, store)\n",
    "for i in store_euros:\n",
    "    print(i)"
   ]
  },
  {
   "cell_type": "code",
   "execution_count": 77,
   "metadata": {},
   "outputs": [
    {
     "name": "stdout",
     "output_type": "stream",
     "text": [
      "('shirt', 16.4)\n",
      "('pants', 20.5)\n",
      "('jacket', 41.0)\n",
      "('socks', 8.2)\n"
     ]
    }
   ],
   "source": [
    "# map() = applies a function to each item in an iterable(list , tuple, ect...)\n",
    "# map(function, iterable)\n",
    "store_1 = [(\"shirt\", 20) , (\"pants\", 25) , (\"jacket\", 50) , (\"socks\", 10)]\n",
    "to_eure_1 = lambda data : (data[0] , data[1]*0.82)\n",
    "store_euros_1 = list(map(to_eure_1, store_1))\n",
    "for i in store_euros_1:\n",
    "    print(i)"
   ]
  },
  {
   "cell_type": "code",
   "execution_count": 78,
   "metadata": {},
   "outputs": [
    {
     "name": "stdout",
     "output_type": "stream",
     "text": [
      "('tondjua', 20)\n",
      "('boris', 18)\n",
      "('thibaut', 25)\n",
      "('larissa', 22)\n"
     ]
    }
   ],
   "source": [
    "# filter = creates a collecwhich a function return Truetionof elements from an iterable for \n",
    "# filter(function , iterable)\n",
    "friends = [(\"tondjua\", 20) , (\"boris\" , 18) , (\"thibaut\" , 25), (\"junior\" , 16) , (\"larissa\", 22)]\n",
    "age = lambda ages: ages[1] >= 18\n",
    "drinking_friends = list(filter(age , friends))\n",
    "for i in drinking_friends:\n",
    "    print(i)"
   ]
  },
  {
   "cell_type": "code",
   "execution_count": 79,
   "metadata": {},
   "outputs": [],
   "source": [
    "# List comprehension = a way to create a new list with less snytx\n",
    "#                     can mimi certain Lambda functions, easier to read\n",
    "#                   list = [expression for item in iterable]\n",
    "#                   list = [expression for item in iterable if conditional]\n",
    "#                   list = [expression if/else for item in iterable ]"
   ]
  },
  {
   "cell_type": "code",
   "execution_count": 80,
   "metadata": {},
   "outputs": [
    {
     "name": "stdout",
     "output_type": "stream",
     "text": [
      "[20, 35, 45, 65]\n"
     ]
    }
   ],
   "source": [
    "Students = [10, 20, 35, 45, 65 ]\n",
    "passed_students = list(filter(lambda x : x>= 18 , Students))\n",
    "print(passed_students)"
   ]
  },
  {
   "cell_type": "code",
   "execution_count": 81,
   "metadata": {},
   "outputs": [
    {
     "name": "stdout",
     "output_type": "stream",
     "text": [
      "[[20, 35, 45, 65], [20, 35, 45, 65], [20, 35, 45, 65], [20, 35, 45, 65], [20, 35, 45, 65]]\n"
     ]
    }
   ],
   "source": [
    "passed_students = [list(filter(lambda x : x>= 18 , Students)) for i in Students]\n",
    "print(passed_students) # the Code ist False hier"
   ]
  },
  {
   "cell_type": "code",
   "execution_count": 82,
   "metadata": {},
   "outputs": [
    {
     "name": "stdout",
     "output_type": "stream",
     "text": [
      "[10]\n"
     ]
    }
   ],
   "source": [
    "passed_students = [i for i in Students if i<= 18]\n",
    "print(passed_students)"
   ]
  },
  {
   "cell_type": "code",
   "execution_count": 83,
   "metadata": {},
   "outputs": [
    {
     "name": "stdout",
     "output_type": "stream",
     "text": [
      "['failled']\n"
     ]
    }
   ],
   "source": [
    "passed_students = [i if i >= 60 else \"failled\" for i in Students if i<= 18]\n",
    "print(passed_students)"
   ]
  },
  {
   "cell_type": "code",
   "execution_count": 93,
   "metadata": {},
   "outputs": [],
   "source": [
    "import random"
   ]
  },
  {
   "cell_type": "code",
   "execution_count": 94,
   "metadata": {},
   "outputs": [],
   "source": [
    "# Dictionary Comprehension = create dictionaries using an expression\n",
    "#                           can replace for loops and certain lambda function\n",
    "# Dictionary = {key : expression for (key , value) in iterable }\n",
    "# Dictionary = {key : expression for (key , value) in iterable if condition}\n",
    "# Dictionary = {key : (if/else)  for (key , value) in iterable }\n",
    "# Dictionary = {key : function(value) expression for (key , value) in iterable }"
   ]
  },
  {
   "cell_type": "code",
   "execution_count": 95,
   "metadata": {},
   "outputs": [],
   "source": [
    "cities_in_F = {\"new york\": 32, \"boston\" : 75, \"Los angeles\" : 100, \"Chicago\":50}"
   ]
  },
  {
   "cell_type": "code",
   "execution_count": 96,
   "metadata": {},
   "outputs": [
    {
     "name": "stdout",
     "output_type": "stream",
     "text": [
      "{'new york': 0, 'boston': 29, 'Los angeles': 45, 'Chicago': 12}\n"
     ]
    }
   ],
   "source": [
    "cities_in_C = {key: round((value-32)*(6/9)) for (key, value) in cities_in_F.items()}\n",
    "print(cities_in_C)"
   ]
  },
  {
   "cell_type": "code",
   "execution_count": 97,
   "metadata": {},
   "outputs": [],
   "source": [
    "cities_in_F = {\"new york\": \"snowing\", \"boston\" : \"sunny\", \"Los angeles\" : \"sunny\", \"Chicago\":\"snowing\"}"
   ]
  },
  {
   "cell_type": "code",
   "execution_count": 98,
   "metadata": {},
   "outputs": [
    {
     "name": "stdout",
     "output_type": "stream",
     "text": [
      "{'boston': 'sunny', 'Los angeles': 'sunny'}\n"
     ]
    }
   ],
   "source": [
    "sunny_weather = {key: value for (key, value) in cities_in_F.items() if value == \"sunny\"}\n",
    "print(sunny_weather)"
   ]
  },
  {
   "cell_type": "code",
   "execution_count": 99,
   "metadata": {},
   "outputs": [
    {
     "name": "stdout",
     "output_type": "stream",
     "text": [
      "{'new york': 'COLD', 'boston': 'WARM', 'Los angeles': 'WARM', 'Chicago': 'WARM'}\n"
     ]
    }
   ],
   "source": [
    "cities_in_F = {\"new york\": 32, \"boston\" : 75, \"Los angeles\" : 100, \"Chicago\":50}\n",
    "desc_dictionary ={key: (\"WARM\" if value >= 40 else \"COLD\") for (key, value) in cities_in_F.items()}\n",
    "print(desc_dictionary)"
   ]
  },
  {
   "cell_type": "code",
   "execution_count": 100,
   "metadata": {},
   "outputs": [],
   "source": [
    "def check_temp(value):\n",
    "    if value >= 70:\n",
    "        return \"HOT\"\n",
    "    elif 69 >= value >= 40:\n",
    "        return \"WARM\"\n",
    "    else:\n",
    "        return \"COLD\""
   ]
  },
  {
   "cell_type": "code",
   "execution_count": 101,
   "metadata": {},
   "outputs": [
    {
     "name": "stdout",
     "output_type": "stream",
     "text": [
      "{'new york': 'COLD', 'boston': 'HOT', 'Los angeles': 'HOT', 'Chicago': 'WARM'}\n"
     ]
    }
   ],
   "source": [
    "cities_in_F = {\"new york\": 32, \"boston\" : 75, \"Los angeles\" : 100, \"Chicago\":50}\n",
    "desc_dictionary_check ={key: check_temp(value) for (key, value) in cities_in_F.items()}\n",
    "print(desc_dictionary_check)"
   ]
  },
  {
   "cell_type": "code",
   "execution_count": 102,
   "metadata": {},
   "outputs": [],
   "source": [
    "# zip(*iterables) = aggregate elements from or more iterables (list , tuples, sets, ect...)\n",
    "#                 creates a zip object with paired elements stored in tuples for each elements"
   ]
  },
  {
   "cell_type": "code",
   "execution_count": 103,
   "metadata": {},
   "outputs": [],
   "source": [
    "usernames = [\"boris\" , \"thibaut\" , \"junior\"]\n",
    "villes  = [\"yaounde\" , \"douala\" , \"bafang\"]"
   ]
  },
  {
   "cell_type": "code",
   "execution_count": 104,
   "metadata": {},
   "outputs": [
    {
     "name": "stdout",
     "output_type": "stream",
     "text": [
      "<class 'zip'>\n",
      "('boris', 'yaounde')\n",
      "('thibaut', 'douala')\n",
      "('junior', 'bafang')\n"
     ]
    }
   ],
   "source": [
    "users = zip(usernames , villes)\n",
    "print(type(users))\n",
    "for i in users:\n",
    "    print(i)"
   ]
  },
  {
   "cell_type": "code",
   "execution_count": 105,
   "metadata": {},
   "outputs": [
    {
     "name": "stdout",
     "output_type": "stream",
     "text": [
      "<class 'list'>\n",
      "('boris', 'yaounde')\n",
      "('thibaut', 'douala')\n",
      "('junior', 'bafang')\n"
     ]
    }
   ],
   "source": [
    "users = list(zip(usernames , villes))\n",
    "print(type(users))\n",
    "for i in users:\n",
    "    print(i)"
   ]
  },
  {
   "cell_type": "code",
   "execution_count": 106,
   "metadata": {},
   "outputs": [
    {
     "name": "stdout",
     "output_type": "stream",
     "text": [
      "<class 'dict'>\n",
      "boris : yaounde\n",
      "thibaut : douala\n",
      "junior : bafang\n"
     ]
    }
   ],
   "source": [
    "users = dict(zip(usernames , villes))\n",
    "print(type(users))\n",
    "for key , value in users.items():\n",
    "    print(key+ \" : \"+ value)"
   ]
  },
  {
   "cell_type": "code",
   "execution_count": 107,
   "metadata": {},
   "outputs": [],
   "source": [
    "usernames1 = [\"boris\" , \"thibaut\" , \"junior\"]\n",
    "ages  = [10 , 20 , 40]"
   ]
  },
  {
   "cell_type": "code",
   "execution_count": 108,
   "metadata": {},
   "outputs": [
    {
     "name": "stdout",
     "output_type": "stream",
     "text": [
      "<class 'dict'>\n",
      "boris 10\n",
      "thibaut 20\n",
      "junior 40\n"
     ]
    }
   ],
   "source": [
    "users = dict(zip(usernames1 , ages))\n",
    "print(type(users))\n",
    "for key , value in users.items():\n",
    "    print(key , value)"
   ]
  },
  {
   "cell_type": "code",
   "execution_count": 109,
   "metadata": {},
   "outputs": [],
   "source": [
    "usernames = [\"boris\" , \"thibaut\" , \"junior\"]\n",
    "villes  = [\"yaounde\" , \"douala\" , \"bafang\"]\n",
    "ages  = [10 , 20 , 40]"
   ]
  },
  {
   "cell_type": "code",
   "execution_count": 110,
   "metadata": {},
   "outputs": [
    {
     "name": "stdout",
     "output_type": "stream",
     "text": [
      "<class 'zip'>\n",
      "('boris', 'yaounde', 10)\n",
      "('thibaut', 'douala', 20)\n",
      "('junior', 'bafang', 40)\n"
     ]
    }
   ],
   "source": [
    "users = zip(usernames , villes, ages)\n",
    "print(type(users))\n",
    "for i in users:\n",
    "    print(i)"
   ]
  },
  {
   "cell_type": "code",
   "execution_count": 111,
   "metadata": {},
   "outputs": [],
   "source": [
    "# epoch = a date and time from which a computer measures system time\n",
    "import time"
   ]
  },
  {
   "cell_type": "code",
   "execution_count": 112,
   "metadata": {},
   "outputs": [
    {
     "name": "stdout",
     "output_type": "stream",
     "text": [
      "Thu Jan  1 01:00:00 1970\n"
     ]
    }
   ],
   "source": [
    "print(time.ctime(0))"
   ]
  },
  {
   "cell_type": "code",
   "execution_count": null,
   "metadata": {},
   "outputs": [],
   "source": []
  }
 ],
 "metadata": {
  "kernelspec": {
   "display_name": "Python 3",
   "language": "python",
   "name": "python3"
  },
  "language_info": {
   "codemirror_mode": {
    "name": "ipython",
    "version": 3
   },
   "file_extension": ".py",
   "mimetype": "text/x-python",
   "name": "python",
   "nbconvert_exporter": "python",
   "pygments_lexer": "ipython3",
   "version": "3.8.3"
  }
 },
 "nbformat": 4,
 "nbformat_minor": 4
}
