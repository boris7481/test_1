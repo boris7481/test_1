{
 "cells": [
  {
   "cell_type": "code",
   "execution_count": 1,
   "metadata": {},
   "outputs": [],
   "source": [
    "# help(\"modules\") # to see all the modules in Python"
   ]
  },
  {
   "cell_type": "code",
   "execution_count": 2,
   "metadata": {},
   "outputs": [],
   "source": [
    "import random"
   ]
  },
  {
   "cell_type": "code",
   "execution_count": 3,
   "metadata": {},
   "outputs": [],
   "source": [
    "choices = [\"rock\" , \"paper\" , \"scissors\"]"
   ]
  },
  {
   "cell_type": "code",
   "execution_count": 4,
   "metadata": {},
   "outputs": [],
   "source": [
    "computer = random.choices(choices)"
   ]
  },
  {
   "cell_type": "code",
   "execution_count": 5,
   "metadata": {},
   "outputs": [
    {
     "name": "stdout",
     "output_type": "stream",
     "text": [
      "['scissors']\n"
     ]
    }
   ],
   "source": [
    "print(computer)"
   ]
  },
  {
   "cell_type": "code",
   "execution_count": 6,
   "metadata": {},
   "outputs": [],
   "source": [
    "# Construction of a class object\n",
    "class Car:\n",
    "    \n",
    "    def __init__(self, make, model , year , color):\n",
    "        \n",
    "        self.make = make\n",
    "        self.model = model\n",
    "        self.year = year\n",
    "        self.color = color\n",
    "    \n",
    "\n",
    "    def drive(self):\n",
    "            print(\"This car is driving\")\n",
    "\n",
    "    def stop(self):\n",
    "            print(\"this car is stopped\")"
   ]
  },
  {
   "cell_type": "code",
   "execution_count": 7,
   "metadata": {},
   "outputs": [
    {
     "name": "stdout",
     "output_type": "stream",
     "text": [
      "chevy\n",
      "Corvette\n",
      "2021\n",
      "blue\n",
      "\n",
      "\n",
      "Ford\n",
      "Mustang\n",
      "2022\n",
      "red\n"
     ]
    }
   ],
   "source": [
    "car_1 = Car(\"chevy\" , \"Corvette\" , 2021 , \"blue\")\n",
    "car_2 = Car(\"Ford\" , \"Mustang\" , 2022, \"red\")\n",
    "# car_1 is an object of the class Car.\n",
    "print(car_1.make)\n",
    "print(car_1.model)\n",
    "print(car_1.year)\n",
    "print(car_1.color)\n",
    "print(\"\\n\")\n",
    "print(car_2.make)\n",
    "print(car_2.model)\n",
    "print(car_2.year)\n",
    "print(car_2.color)"
   ]
  },
  {
   "cell_type": "code",
   "execution_count": 8,
   "metadata": {},
   "outputs": [
    {
     "name": "stdout",
     "output_type": "stream",
     "text": [
      "This car is driving\n",
      "this car is stopped\n",
      "\n",
      "\n",
      "This car is driving\n",
      "this car is stopped\n"
     ]
    }
   ],
   "source": [
    "car_1.drive()\n",
    "car_1.stop()\n",
    "print(\"\\n\")\n",
    "car_2.drive()\n",
    "car_2.stop()"
   ]
  },
  {
   "cell_type": "code",
   "execution_count": 9,
   "metadata": {},
   "outputs": [],
   "source": [
    "# Construction of a class object\n",
    "class Car:\n",
    "    \n",
    "    def __init__(self, make, model , year , color):\n",
    "        \n",
    "        self.make = make\n",
    "        self.model = model\n",
    "        self.year = year\n",
    "        self.color = color\n",
    "    \n",
    "\n",
    "    def drive(self):\n",
    "            print(\"This\" + self.model+\" car is driving\")\n",
    "\n",
    "    def stop(self):\n",
    "            print(\"this\" + self.model+\" car is stopped\")"
   ]
  },
  {
   "cell_type": "code",
   "execution_count": 10,
   "metadata": {},
   "outputs": [
    {
     "name": "stdout",
     "output_type": "stream",
     "text": [
      "This car is driving\n",
      "this car is stopped\n",
      "\n",
      "\n",
      "This car is driving\n",
      "this car is stopped\n"
     ]
    }
   ],
   "source": [
    "car_1.drive()\n",
    "car_1.stop()\n",
    "print(\"\\n\")\n",
    "car_2.drive()\n",
    "car_2.stop()"
   ]
  },
  {
   "cell_type": "code",
   "execution_count": 11,
   "metadata": {},
   "outputs": [],
   "source": [
    "# Higher order function in = a function that either :\n",
    "#                           1. accepts a function as an argument\n",
    "#                           or \n",
    "#                           2. return a function\n",
    "#                          ( in python function are also threated as Object)"
   ]
  },
  {
   "cell_type": "code",
   "execution_count": 14,
   "metadata": {},
   "outputs": [],
   "source": [
    "def loud(text):\n",
    "    return text.upper()\n",
    "\n",
    "def quiet(text):\n",
    "    return text.lower()\n",
    "\n",
    "def hello(func):\n",
    "    text = func(\"hello\")\n",
    "    print(text)"
   ]
  },
  {
   "cell_type": "code",
   "execution_count": 15,
   "metadata": {},
   "outputs": [
    {
     "name": "stdout",
     "output_type": "stream",
     "text": [
      "HELLO\n"
     ]
    }
   ],
   "source": [
    "hello(loud)"
   ]
  },
  {
   "cell_type": "code",
   "execution_count": 19,
   "metadata": {},
   "outputs": [],
   "source": [
    "# 2.Example\n",
    "def divisor(x):\n",
    "    def dividend(y):\n",
    "        return y/x\n",
    "    return dividend"
   ]
  },
  {
   "cell_type": "code",
   "execution_count": 20,
   "metadata": {},
   "outputs": [
    {
     "name": "stdout",
     "output_type": "stream",
     "text": [
      "5.0\n"
     ]
    }
   ],
   "source": [
    "divide = divisor(2)\n",
    "print(divide(10))"
   ]
  },
  {
   "cell_type": "code",
   "execution_count": 21,
   "metadata": {},
   "outputs": [],
   "source": [
    "# A reduce function reduce() = apply a function to an Iterable and reduce it to a single cumulative value.\n",
    "#                             performs on first two elements and repeats process until one Value remaind\n",
    "# reduce(function , iterable)"
   ]
  },
  {
   "cell_type": "code",
   "execution_count": 24,
   "metadata": {},
   "outputs": [
    {
     "name": "stdout",
     "output_type": "stream",
     "text": [
      "Thu Jan  1 01:00:00 1970\n"
     ]
    }
   ],
   "source": [
    "import time\n",
    "\n",
    "print(time.ctime(0)) # convert a time expression in seconds since epoch to a readable string\n",
    "               #  epoch = when your computer thinks time began (reference point)"
   ]
  },
  {
   "cell_type": "code",
   "execution_count": 25,
   "metadata": {},
   "outputs": [],
   "source": [
    "from tkinter import *"
   ]
  },
  {
   "cell_type": "code",
   "execution_count": 26,
   "metadata": {},
   "outputs": [],
   "source": [
    "# widgets = GUI elements : buttons , textboxes , labels, images\n",
    "# windows = serves as a container to hold or contain these widgets "
   ]
  },
  {
   "cell_type": "code",
   "execution_count": 36,
   "metadata": {},
   "outputs": [],
   "source": [
    "window = Tk() # instantiate an instance of windows"
   ]
  },
  {
   "cell_type": "code",
   "execution_count": null,
   "metadata": {},
   "outputs": [],
   "source": [
    "window.mainloop()"
   ]
  },
  {
   "cell_type": "code",
   "execution_count": null,
   "metadata": {},
   "outputs": [],
   "source": [
    "window.geometry(\"420*420\")"
   ]
  },
  {
   "cell_type": "code",
   "execution_count": null,
   "metadata": {},
   "outputs": [],
   "source": []
  }
 ],
 "metadata": {
  "kernelspec": {
   "display_name": "Python 3",
   "language": "python",
   "name": "python3"
  },
  "language_info": {
   "codemirror_mode": {
    "name": "ipython",
    "version": 3
   },
   "file_extension": ".py",
   "mimetype": "text/x-python",
   "name": "python",
   "nbconvert_exporter": "python",
   "pygments_lexer": "ipython3",
   "version": "3.8.3"
  }
 },
 "nbformat": 4,
 "nbformat_minor": 4
}
