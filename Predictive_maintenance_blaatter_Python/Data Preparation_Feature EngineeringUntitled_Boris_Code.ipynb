{
 "cells": [
  {
   "cell_type": "code",
   "execution_count": 3,
   "metadata": {},
   "outputs": [],
   "source": [
    "import numpy as np\n",
    "import seaborn as sns\n",
    "import matplotlib.pyplot as plt\n",
    "import pandas as pandas\n",
    "from scipy.stats import skew, kurtosis"
   ]
  },
  {
   "cell_type": "markdown",
   "metadata": {},
   "source": [
    "## Feature Extraction"
   ]
  },
  {
   "cell_type": "markdown",
   "metadata": {},
   "source": [
    "### Beispiel: One Feature is not enough"
   ]
  },
  {
   "cell_type": "markdown",
   "metadata": {},
   "source": [
    "#### Generate Data"
   ]
  },
  {
   "cell_type": "code",
   "execution_count": 6,
   "metadata": {},
   "outputs": [],
   "source": [
    "import scipy.stats"
   ]
  },
  {
   "cell_type": "code",
   "execution_count": 8,
   "metadata": {},
   "outputs": [],
   "source": [
    "# Sample\n",
    "distribution1 = scipy.stats.gengamma(20, 20, loc=50, scale=45)\n",
    "sample1 = distribution1.rvs(size=10000)"
   ]
  },
  {
   "cell_type": "code",
   "execution_count": 9,
   "metadata": {},
   "outputs": [
    {
     "data": {
      "text/plain": [
       "(array([  1.,   0.,   2.,   1.,   1.,   1.,   0.,   1.,   2.,   3.,   2.,\n",
       "          5.,   6.,   6.,  10.,   8.,   7.,  11.,  17.,  18.,  17.,  24.,\n",
       "         24.,  26.,  27.,  36.,  41.,  42.,  50.,  74.,  73.,  73.,  82.,\n",
       "        112., 120., 135., 151., 139., 181., 163., 203., 172., 220., 208.,\n",
       "        252., 251., 255., 267., 269., 253., 303., 311., 303., 314., 301.,\n",
       "        320., 309., 273., 242., 289., 272., 262., 253., 215., 209., 205.,\n",
       "        178., 182., 134., 141., 122., 122., 101., 101.,  81.,  73.,  65.,\n",
       "         43.,  41.,  36.,  30.,  28.,  19.,  22.,  10.,  11.,  11.,   7.,\n",
       "          8.,   5.,   1.,   0.,   2.,   0.,   1.,   1.,   0.,   0.,   0.,\n",
       "          1.]),\n",
       " array([ 99.88440806,  99.92836467,  99.97232128, 100.0162779 ,\n",
       "        100.06023451, 100.10419112, 100.14814773, 100.19210434,\n",
       "        100.23606095, 100.28001757, 100.32397418, 100.36793079,\n",
       "        100.4118874 , 100.45584401, 100.49980062, 100.54375724,\n",
       "        100.58771385, 100.63167046, 100.67562707, 100.71958368,\n",
       "        100.7635403 , 100.80749691, 100.85145352, 100.89541013,\n",
       "        100.93936674, 100.98332335, 101.02727997, 101.07123658,\n",
       "        101.11519319, 101.1591498 , 101.20310641, 101.24706303,\n",
       "        101.29101964, 101.33497625, 101.37893286, 101.42288947,\n",
       "        101.46684608, 101.5108027 , 101.55475931, 101.59871592,\n",
       "        101.64267253, 101.68662914, 101.73058576, 101.77454237,\n",
       "        101.81849898, 101.86245559, 101.9064122 , 101.95036881,\n",
       "        101.99432543, 102.03828204, 102.08223865, 102.12619526,\n",
       "        102.17015187, 102.21410849, 102.2580651 , 102.30202171,\n",
       "        102.34597832, 102.38993493, 102.43389154, 102.47784816,\n",
       "        102.52180477, 102.56576138, 102.60971799, 102.6536746 ,\n",
       "        102.69763121, 102.74158783, 102.78554444, 102.82950105,\n",
       "        102.87345766, 102.91741427, 102.96137089, 103.0053275 ,\n",
       "        103.04928411, 103.09324072, 103.13719733, 103.18115394,\n",
       "        103.22511056, 103.26906717, 103.31302378, 103.35698039,\n",
       "        103.400937  , 103.44489362, 103.48885023, 103.53280684,\n",
       "        103.57676345, 103.62072006, 103.66467667, 103.70863329,\n",
       "        103.7525899 , 103.79654651, 103.84050312, 103.88445973,\n",
       "        103.92841635, 103.97237296, 104.01632957, 104.06028618,\n",
       "        104.10424279, 104.1481994 , 104.19215602, 104.23611263,\n",
       "        104.28006924]),\n",
       " <a list of 100 Patch objects>)"
      ]
     },
     "execution_count": 9,
     "metadata": {},
     "output_type": "execute_result"
    },
    {
     "data": {
      "image/png": "[encoded data removed]",
      "text/plain": [
       "<Figure size 432x288 with 1 Axes>"
      ]
     },
     "metadata": {
      "needs_background": "light"
     },
     "output_type": "display_data"
    }
   ],
   "source": [
    "plt.hist(sample1, bins= 100)"
   ]
  },
  {
   "cell_type": "code",
   "execution_count": 10,
   "metadata": {},
   "outputs": [
    {
     "name": "stdout",
     "output_type": "stream",
     "text": [
      "(array(102.20888668), array(0.34851039), array(-0.19165693), array(0.07297435))\n"
     ]
    }
   ],
   "source": [
    "print(distribution1.stats('mvsk'))"
   ]
  },
  {
   "cell_type": "code",
   "execution_count": 14,
   "metadata": {},
   "outputs": [
    {
     "data": {
      "text/plain": [
       "(array([  1.,   0.,   0.,   0.,   2.,   1.,   2.,   0.,   0.,   1.,   0.,\n",
       "          1.,   1.,   0.,   2.,   1.,   3.,   0.,   1.,   4.,   3.,   0.,\n",
       "          1.,   2.,  10.,   5.,   6.,   3.,   6.,   6.,   5.,  14.,  16.,\n",
       "         14.,  11.,  19.,  12.,  16.,  17.,  16.,  29.,  24.,  36.,  40.,\n",
       "         36.,  48.,  47.,  49.,  55.,  48.,  70.,  58.,  71.,  75., 102.,\n",
       "         96., 115., 107., 144., 133., 164., 159., 192., 205., 216., 225.,\n",
       "        213., 252., 236., 242., 306., 325., 340., 355., 344., 362., 334.,\n",
       "        349., 367., 376., 325., 316., 332., 288., 287., 241., 207., 207.,\n",
       "        174., 119.,  96.,  76.,  53.,  52.,  32.,  17.,  13.,   8.,   7.,\n",
       "          3.]),\n",
       " array([66.92325312, 66.96287885, 67.00250458, 67.04213031, 67.08175604,\n",
       "        67.12138177, 67.1610075 , 67.20063323, 67.24025896, 67.27988468,\n",
       "        67.31951041, 67.35913614, 67.39876187, 67.4383876 , 67.47801333,\n",
       "        67.51763906, 67.55726479, 67.59689052, 67.63651625, 67.67614198,\n",
       "        67.71576771, 67.75539344, 67.79501917, 67.8346449 , 67.87427062,\n",
       "        67.91389635, 67.95352208, 67.99314781, 68.03277354, 68.07239927,\n",
       "        68.112025  , 68.15165073, 68.19127646, 68.23090219, 68.27052792,\n",
       "        68.31015365, 68.34977938, 68.38940511, 68.42903084, 68.46865657,\n",
       "        68.50828229, 68.54790802, 68.58753375, 68.62715948, 68.66678521,\n",
       "        68.70641094, 68.74603667, 68.7856624 , 68.82528813, 68.86491386,\n",
       "        68.90453959, 68.94416532, 68.98379105, 69.02341678, 69.06304251,\n",
       "        69.10266823, 69.14229396, 69.18191969, 69.22154542, 69.26117115,\n",
       "        69.30079688, 69.34042261, 69.38004834, 69.41967407, 69.4592998 ,\n",
       "        69.49892553, 69.53855126, 69.57817699, 69.61780272, 69.65742845,\n",
       "        69.69705417, 69.7366799 , 69.77630563, 69.81593136, 69.85555709,\n",
       "        69.89518282, 69.93480855, 69.97443428, 70.01406001, 70.05368574,\n",
       "        70.09331147, 70.1329372 , 70.17256293, 70.21218866, 70.25181439,\n",
       "        70.29144011, 70.33106584, 70.37069157, 70.4103173 , 70.44994303,\n",
       "        70.48956876, 70.52919449, 70.56882022, 70.60844595, 70.64807168,\n",
       "        70.68769741, 70.72732314, 70.76694887, 70.8065746 , 70.84620033,\n",
       "        70.88582606]),\n",
       " <a list of 100 Patch objects>)"
      ]
     },
     "execution_count": 14,
     "metadata": {},
     "output_type": "execute_result"
    },
    {
     "data": {
      "image/png": "[encoded data removed]",
      "text/plain": [
       "<Figure size 432x288 with 1 Axes>"
      ]
     },
     "metadata": {
      "needs_background": "light"
     },
     "output_type": "display_data"
    }
   ],
   "source": [
    "# Sample 2\n",
    "distribution2 = scipy.stats.gengamma(1, 50, loc=50, scale=20)\n",
    "sample2 = distribution2.rvs(size=10000)\n",
    "plt.hist(sample2, bins=100)"
   ]
  },
  {
   "cell_type": "code",
   "execution_count": 15,
   "metadata": {},
   "outputs": [
    {
     "name": "stdout",
     "output_type": "stream",
     "text": [
      "(array(69.77688407), array(0.25013703), array(-1.02485299), array(1.87778571))\n"
     ]
    }
   ],
   "source": [
    "print(distribution2.stats('mvsk'))"
   ]
  },
  {
   "cell_type": "code",
   "execution_count": 18,
   "metadata": {},
   "outputs": [],
   "source": [
    "sample1 = sample1 - sample1.mean()\n",
    "sample2 = sample2 - sample2.mean()\n",
    "sample1 = sample1.reshape(sample1.shape[0], 1)\n",
    "sample2 = sample2.reshape(sample2.shape[0], 1)"
   ]
  },
  {
   "cell_type": "code",
   "execution_count": 19,
   "metadata": {},
   "outputs": [],
   "source": [
    "samples = np.concatenate((sample1, sample2), axis=1)"
   ]
  },
  {
   "cell_type": "code",
   "execution_count": 21,
   "metadata": {},
   "outputs": [],
   "source": [
    "# Save\\\n",
    "# np.save('./data/data_more_features_new.npy', samples)"
   ]
  },
  {
   "cell_type": "markdown",
   "metadata": {},
   "source": [
    "#### Lösung"
   ]
  },
  {
   "cell_type": "code",
   "execution_count": 35,
   "metadata": {},
   "outputs": [],
   "source": [
    "##### NumPy"
   ]
  },
  {
   "cell_type": "code",
   "execution_count": 36,
   "metadata": {},
   "outputs": [],
   "source": [
    "from scipy.stats import skew, kurtosis"
   ]
  },
  {
   "cell_type": "code",
   "execution_count": 37,
   "metadata": {},
   "outputs": [],
   "source": [
    "# Split data into intervals"
   ]
  },
  {
   "cell_type": "code",
   "execution_count": null,
   "metadata": {},
   "outputs": [],
   "source": []
  }
 ],
 "metadata": {
  "kernelspec": {
   "display_name": "Python 3",
   "language": "python",
   "name": "python3"
  },
  "language_info": {
   "codemirror_mode": {
    "name": "ipython",
    "version": 3
   },
   "file_extension": ".py",
   "mimetype": "text/x-python",
   "name": "python",
   "nbconvert_exporter": "python",
   "pygments_lexer": "ipython3",
   "version": "3.8.3"
  }
 },
 "nbformat": 4,
 "nbformat_minor": 4
}
