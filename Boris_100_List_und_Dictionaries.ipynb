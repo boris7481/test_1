{
 "cells": [
  {
   "cell_type": "markdown",
   "metadata": {},
   "source": [
    "Exercise 1\n",
    "\n",
    "Given the following dictionary:\n",
    "\n",
    "inventory = {\n",
    "    'gold' : 500,\n",
    "    'pouch' : ['flint', 'twine', 'gemstone'],\n",
    "    'backpack' : ['xylophone','dagger', 'bedroll','bread loaf']\n",
    "}\n",
    "\n",
    "Try to do the followings:\n",
    "\n",
    "    Add a key to inventory called 'pocket'.\n",
    "    Set the value of 'pocket' to be a list consisting of the strings 'seashell', 'strange berry', and 'lint'.\n",
    "    .sort()the items in the list stored under the 'backpack' key.\n",
    "    Then .remove('dagger') from the list of items stored under the 'backpack' key.\n",
    "    Add 50 to the number stored under the 'gold' key.\n"
   ]
  },
  {
   "cell_type": "code",
   "execution_count": 3,
   "metadata": {},
   "outputs": [],
   "source": [
    "inventory = {\n",
    "   'gold' : 500,\n",
    "    'pouch' : ['flint', 'twine', 'gemstone'],\n",
    "    'backpack' : ['xylophone','dagger', 'bedroll','bread loaf'] \n",
    "}"
   ]
  },
  {
   "cell_type": "code",
   "execution_count": 4,
   "metadata": {},
   "outputs": [],
   "source": [
    "inventory[\"pocket\"] = [ \" seashell\" , \" strange berry\" ,\"list\"]"
   ]
  },
  {
   "cell_type": "code",
   "execution_count": 5,
   "metadata": {},
   "outputs": [],
   "source": [
    "inventory[\"backpack\"].sort()"
   ]
  },
  {
   "cell_type": "code",
   "execution_count": 7,
   "metadata": {},
   "outputs": [],
   "source": [
    "inventory[\"backpack\"].remove(\"dagger\")"
   ]
  },
  {
   "cell_type": "code",
   "execution_count": 8,
   "metadata": {},
   "outputs": [],
   "source": [
    "inventory[\"gold\"] = inventory[\"gold\"] + 50"
   ]
  },
  {
   "cell_type": "code",
   "execution_count": 9,
   "metadata": {},
   "outputs": [
    {
     "name": "stdout",
     "output_type": "stream",
     "text": [
      "{'gold': 550, 'pouch': ['flint', 'twine', 'gemstone'], 'backpack': ['bedroll', 'bread loaf', 'xylophone'], 'pocket': [' seashell', ' strange berry', 'list']}\n"
     ]
    }
   ],
   "source": [
    "print(inventory)"
   ]
  },
  {
   "cell_type": "markdown",
   "metadata": {},
   "source": [
    "Exercise 2\n",
    "\n",
    "Folow the steps bellow: -Create a new dictionary called prices using {} format like the example above.\n",
    "\n",
    "    Put these values in your prices dictionary:\n",
    "\n",
    "    \"banana\": 4,\n",
    "    \"apple\": 2,\n",
    "    \"orange\": 1.5,\n",
    "    \"pear\": 3\n",
    "\n",
    "    Loop through each key in prices. For each key, print out the key along with its price and stock information. Print the answer in the following format:\n",
    "\n",
    "    apple\n",
    "    price: 2\n",
    "    stock: 0\n",
    "\n",
    "    Let's determine how much money you would make if you sold all of your food.\n",
    "        Create a variable called total and set it to zero.\n",
    "        Loop through the prices dictionaries.For each key in prices, multiply the number in prices by the number in stock. Print that value into the console and then add it to total.\n",
    "        Finally, outside your loop, print total.\n"
   ]
  },
  {
   "cell_type": "code",
   "execution_count": 17,
   "metadata": {},
   "outputs": [],
   "source": [
    "# create the price dictionary\n",
    "pries = {}\n",
    "# add values\n",
    "pries[\"banana\"] = 4\n",
    "pries[\"apple\"] = 2\n",
    "pries[\"orange\"] = 1.5\n",
    "pries[\"pear\"] = 3"
   ]
  },
  {
   "cell_type": "code",
   "execution_count": 18,
   "metadata": {},
   "outputs": [],
   "source": [
    "# create the stock dictionary\n",
    "stock = {}\n",
    "# add Values\n",
    "stock[\"banana\"]= 6\n",
    "stock[\"apple\"]= 0\n",
    "stock[\"orange\"] =32\n",
    "stock[\"pear\"]= 15"
   ]
  },
  {
   "cell_type": "code",
   "execution_count": 37,
   "metadata": {},
   "outputs": [
    {
     "name": "stdout",
     "output_type": "stream",
     "text": [
      "24\n",
      "0\n",
      "48.0\n",
      "45\n",
      "the total price ist: 117.0\n"
     ]
    }
   ],
   "source": [
    "total = 0\n",
    "for price in pries:\n",
    "    money = pries[price]*stock[price]\n",
    "    print(money)\n",
    "    total = total + money\n",
    "print(\"the total price ist:\" ,total)"
   ]
  },
  {
   "cell_type": "code",
   "execution_count": 38,
   "metadata": {},
   "outputs": [],
   "source": [
    "shopping_list = [\"banana\", \"orange\", \"apple\"]\n",
    "\n",
    "stock = {\n",
    "    \"banana\": 6,\n",
    "    \"apple\": 0,\n",
    "    \"orange\": 32,\n",
    "    \"pear\": 15\n",
    "}\n",
    "\n",
    "prices = {\n",
    "    \"banana\": 4,\n",
    "    \"apple\": 2,\n",
    "    \"orange\": 1.5,\n",
    "    \"pear\": 3\n",
    "}"
   ]
  },
  {
   "cell_type": "code",
   "execution_count": 44,
   "metadata": {},
   "outputs": [],
   "source": [
    "def compute_bill(food):\n",
    "    total = 0\n",
    "    for x in food:\n",
    "        price = pries[x]\n",
    "        if stock[x]>0:\n",
    "            total = total + price\n",
    "            stock[x]= stock[x] -1\n",
    "    print(total)"
   ]
  },
  {
   "cell_type": "code",
   "execution_count": 45,
   "metadata": {},
   "outputs": [
    {
     "name": "stdout",
     "output_type": "stream",
     "text": [
      "5.5\n"
     ]
    }
   ],
   "source": [
    "compute_bill(shopping_list)"
   ]
  },
  {
   "cell_type": "code",
   "execution_count": null,
   "metadata": {},
   "outputs": [],
   "source": []
  }
 ],
 "metadata": {
  "kernelspec": {
   "display_name": "Python 3",
   "language": "python",
   "name": "python3"
  },
  "language_info": {
   "codemirror_mode": {
    "name": "ipython",
    "version": 3
   },
   "file_extension": ".py",
   "mimetype": "text/x-python",
   "name": "python",
   "nbconvert_exporter": "python",
   "pygments_lexer": "ipython3",
   "version": "3.8.3"
  }
 },
 "nbformat": 4,
 "nbformat_minor": 4
}
