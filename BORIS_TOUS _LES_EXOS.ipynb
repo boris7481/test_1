{
 "cells": [
  {
   "cell_type": "markdown",
   "metadata": {},
   "source": [
    "##### 14-2-1. Numéro 1\n",
    "#### Écrire un programme qui, à partir de la saisie d'un rayon et d'une hauteur, calcule le volume d'un cône droit.\n"
   ]
  },
  {
   "cell_type": "code",
   "execution_count": 1,
   "metadata": {},
   "outputs": [],
   "source": [
    "import numpy as np\n",
    "import matplotlib.pyplot as plt\n",
    "import math"
   ]
  },
  {
   "cell_type": "code",
   "execution_count": 6,
   "metadata": {},
   "outputs": [],
   "source": [
    "def volume_cone(rayon , hauteur):\n",
    "    rayon = float(input())\n",
    "    print(\" der wer Wert von dem Rdius ist :\", rayon)\n",
    "    hauteur = float(input())\n",
    "    print(\" der wer Wert von der höhe ist :\", hauteur)\n",
    "    Volume = (rayon**2 * math.pi * hauteur)/3.0\n",
    "    print(f\" das Volumen ist :\", Volume)"
   ]
  },
  {
   "cell_type": "code",
   "execution_count": 7,
   "metadata": {},
   "outputs": [
    {
     "name": "stdout",
     "output_type": "stream",
     "text": [
      "10\n",
      " der wer Wert von dem Rdius ist : 10.0\n",
      "10\n",
      " der wer Wert von der höhe ist : 10.0\n",
      " das Volumen ist : 1047.1975511965977\n"
     ]
    }
   ],
   "source": [
    "volume_cone(10,23)"
   ]
  },
  {
   "cell_type": "markdown",
   "metadata": {},
   "source": [
    "### Numéro 2\n",
    "\n",
    "#### Une boucle while : entrez un prix HT (entrez o pour terminer) et affichez sa valeur TTC.\n"
   ]
  },
  {
   "cell_type": "markdown",
   "metadata": {},
   "source": [
    "### Numéro 3\n",
    "\n",
    "#### Une autre boucle while : calculez la somme d'une suite de nombres positifs ou nuls. Comptez combien il y avait de données et combien étaient supérieures à 100.\n",
    "\n",
    "#### Entrer un nombre inférieur ou égal à 0 indique la fin de la suite.\n"
   ]
  },
  {
   "cell_type": "code",
   "execution_count": 11,
   "metadata": {},
   "outputs": [
    {
     "name": "stdout",
     "output_type": "stream",
     "text": [
      "x (0 pour terminer) ?10\n",
      "x (0 pour terminer) ?10\n",
      "x (0 pour terminer) ?10\n",
      "x (0 pour terminer) ?0\n",
      "\n",
      "Somme : 30\n",
      "3 valeur(s) en tout, dont 0 supérieure(s) à 100\n"
     ]
    }
   ],
   "source": [
    "# -*- coding : utf8 -*-\n",
    "\"\"\"Somme d'entiers et nombre d'entiers supérieurs à 100.\"\"\"\n",
    "\n",
    "# Programme principal =========================================================\n",
    "somme, nombreTotal, nombreGrands = 0, 0, 0\n",
    "\n",
    "x = int(input(\"x (0 pour terminer) ?\"))\n",
    "while x > 0:\n",
    "    somme += x\n",
    "    nombreTotal += 1\n",
    "    if x > 100:\n",
    "        nombreGrands += 1\n",
    "    x = int(input(\"x (0 pour terminer) ?\"))\n",
    "\n",
    "print(\"\\nSomme :\", somme)\n",
    "print(nombreTotal, \"valeur(s) en tout, dont\", nombreGrands, \"supérieure(s) à 100\")"
   ]
  },
  {
   "cell_type": "markdown",
   "metadata": {},
   "source": [
    "### Numéro 4\n",
    "\n",
    "#### L'utilisateur donne un entier positif n\n",
    "#### et le programme affiche PAIR s'il est divisible par 2, IMPAIR sinon."
   ]
  },
  {
   "cell_type": "markdown",
   "metadata": {},
   "source": [
    "### Numéro 5\n",
    "\n",
    "#### L'utilisateur donne un entier positif et le programme annonce combien de fois de suite cet entier est divisible par 2.\n"
   ]
  },
  {
   "cell_type": "code",
   "execution_count": 12,
   "metadata": {},
   "outputs": [
    {
     "name": "stdout",
     "output_type": "stream",
     "text": [
      "Entrez un entier strictement positif :10\n",
      "10 est 1 fois divisible par 2.\n"
     ]
    }
   ],
   "source": [
    "# -*- coding : utf8 -*-\n",
    "\"\"\"Nombre de fois qu'un entier est divisible par 2.\"\"\"\n",
    "\n",
    "# Programme principal =========================================================\n",
    "n = int(input(\"Entrez un entier strictement positif :\"))\n",
    "while n < 1:\n",
    "    n = int(input(\"Entrez un entier STRICTEMENT POSITIF, s.v.p. :\"))\n",
    "save = n\n",
    "\n",
    "cpt = 0\n",
    "while n%2 == 0:\n",
    "    n /= 2\n",
    "    cpt += 1\n",
    "\n",
    "print(save, \"est\", cpt, \"fois divisible par 2.\")"
   ]
  },
  {
   "cell_type": "markdown",
   "metadata": {},
   "source": [
    "Numéro 8\n",
    "\n",
    "\n",
    "Un gardien de phare va aux toilettes cinq fois par jour. Or les WC sont au rez-de-chaussée…\n",
    "\n",
    "Écrire une procédure (donc sans return) hauteurParcourue qui reçoit \n",
    "deux paramètres, le nombre de marches du phare et la hauteur \n",
    "de chaque marche (en cm), et qui affiche :"
   ]
  },
  {
   "cell_type": "code",
   "execution_count": 31,
   "metadata": {},
   "outputs": [
    {
     "name": "stdout",
     "output_type": "stream",
     "text": [
      "Combien de marches ?10\n",
      "Hauteur d'une marche (cm) ?10\n",
      "Pour 10 marches de 10 cm, il parcourt 70.0 m par semaine !\n"
     ]
    }
   ],
   "source": [
    "def hauteurParcourue(nb , h):\n",
    "     print(\"Pour {} marches de {} cm, il parcourt {} m par semaine !\"\n",
    "           .format(nb, h, nb*h*2*5*7/100.0))\n",
    "\n",
    "#        Programme principal =========================================================\n",
    "\n",
    "nbMarches = int(input(\"Combien de marches ?\"))\n",
    "hauteurMarche = int(input(\"Hauteur d'une marche (cm) ?\"))\n",
    "\n",
    "hauteurParcourue(nbMarches, hauteurMarche)"
   ]
  },
  {
   "cell_type": "code",
   "execution_count": 32,
   "metadata": {},
   "outputs": [
    {
     "name": "stdout",
     "output_type": "stream",
     "text": [
      "Combien de marches ?10\n",
      "Hauteur d'une marche (cm) ?10\n",
      "Pour 10 marches de 10 cm, il parcourt 70.0 m par semaine !\n"
     ]
    }
   ],
   "source": [
    "nbMarches = int(input(\"Combien de marches ?\"))\n",
    "hauteurMarche = int(input(\"Hauteur d'une marche (cm) ?\"))\n",
    "\n",
    "\n",
    "def hauteurParcourue(nb , h):\n",
    "     print(\"Pour {} marches de {} cm, il parcourt {} m par semaine !\"\n",
    "           .format(nb, h, nb*h*2*5*7/100.0))\n",
    "\n",
    "#        Programme principal =========================================================\n",
    "\n",
    "\n",
    "hauteurParcourue(nbMarches, hauteurMarche)"
   ]
  },
  {
   "cell_type": "markdown",
   "metadata": {},
   "source": [
    " Numéro 11 ?\n",
    "▲\n",
    "\n",
    "Un programme principal saisit une chaîne d'ADN valide et une séquence d'ADN valide (valide signifie qu'elles ne sont pas vides et sont formées exclusivement d'une combinaison arbitraire de \"a\", \"t\", \"g\" ou \"c\").\n",
    "\n",
    "Écrire une fonction valide qui renvoie vrai si la saisie est valide, faux sinon.\n",
    "\n",
    "Écrire une fonction saisie qui effectue une saisie valide et renvoie la valeur saisie sous forme d'une chaîne de caractères.\n",
    "\n",
    "Écrire une fonction proportion qui reçoit deux arguments, la chaîne et la séquence et qui retourne la proportion de séquence dans la chaîne (c'est-à-dire son nombre d'occurrences).\n",
    "\n",
    "Le programme principal appelle la fonction saisie pour la chaîne et pour la séquence et affiche le résultat.\n",
    "\n",
    "Exemple d'affichage :\n",
    " \n",
    "Sélectionnez\n",
    "\n",
    "chaîne : attgcaatggtggtacatg\n",
    "séquence : ca\n",
    "Il y a 10.53 % de \"ca\" dans votre chaîne.\n",
    "\n"
   ]
  },
  {
   "cell_type": "code",
   "execution_count": 39,
   "metadata": {},
   "outputs": [
    {
     "name": "stdout",
     "output_type": "stream",
     "text": [
      "chaîne :atgc\n",
      "séquence :atgc\n",
      "Il y a 25.0 % de\"atgc\" dans votre chaîne.\n"
     ]
    }
   ],
   "source": [
    "# -*- coding : utf8 -*-\n",
    "\"\"\"Proportion d'une séquence dans une chaîne d'ADN.\"\"\"\n",
    "\n",
    "# Définition de fonction ~~~~~~~~~~~~~~~~~~~~~~~~~~~~~~~~~~~~~~~~~~~~~~~~~~~~~~\n",
    "def valide(seq) :\n",
    "    \"\"\"Retourne vrai si la séquence est valide, faux sinon.\"\"\"\n",
    "    ret = any(seq)\n",
    "    for c in seq :\n",
    "        ret = ret and c in \"atgc\"\n",
    "    return ret\n",
    "\n",
    "def proportion(a, s) :\n",
    "    \"\"\"Retourne la proportion de la séquence <s> dans la chaîne <a>.\"\"\"\n",
    "    return 100*a.count(s)/len(a)\n",
    "\n",
    "def saisie(ch) :\n",
    "    s = input(\"{} :\".format(ch))\n",
    "    while not valide(s) :\n",
    "        print(\"'{}' ne peut contenir que les chaînons 'a', 't', 'g' et 'c'\"\n",
    "              \" et ne doit pas être vide\".format(ch))\n",
    "        s = input(\"{} :\".format(ch))\n",
    "    return s\n",
    "\n",
    "# Programme principal =========================================================\n",
    "adn = saisie(\"chaîne\")\n",
    "seq = saisie(\"séquence\")\n",
    "\n",
    "print('Il y a {} % de\"{}\" dans votre chaîne.'.format(proportion(adn, seq), seq))"
   ]
  },
  {
   "cell_type": "markdown",
   "metadata": {},
   "source": [
    ". Numéro 12\n",
    "\n",
    "Il s'agit d'écrire, d'une part, un programme principal et, d'autre part, une fonction utilisée \n",
    "dans le programme principal.\n",
    "\n",
    "La fonction listAleaInt(n, a, b) retourne une liste de n entiers aléatoires dans [a .. b] en utilisant \n",
    "la fonction randint(a, b) du module random.\n",
    "\n",
    "Dans le programme principal :\n",
    "\n",
    "    construire la liste en appelant la fonction listAleaInt() ;\n",
    "    calculer l'index de la case qui contient le minimum ;\n",
    "    échangez le premier élément du tableau avec son minimum.\n",
    "\n"
   ]
  },
  {
   "cell_type": "code",
   "execution_count": 49,
   "metadata": {},
   "outputs": [
    {
     "name": "stdout",
     "output_type": "stream",
     "text": [
      "avant echange : \n",
      "\tt[0] = 83 \tt[iMin] = 3\n",
      "Apres échange :\n",
      "\tt[0] = 3 \tt[iMin] = 83\n"
     ]
    }
   ],
   "source": [
    "### Echanger ###\n",
    "\n",
    "from random import seed , randint\n",
    "\n",
    "def listAleaInt(n, a, b) :\n",
    "    return [randint(a,b) for i in range(n)]\n",
    "\n",
    "# Programme principal\n",
    "seed() # initialise le générateur de nombres aléatoires\n",
    "\n",
    "t = listAleaInt(100,2,125) # construction de la liste\n",
    "\n",
    "iMin  = t.index(min(t))\n",
    "\n",
    "print(\"avant echange : \")\n",
    "print(\"\\tt[0] =\", t[0], \"\\tt[iMin] =\", t[iMin])\n",
    "t[0], t[iMin] = t[iMin], t[0] # échange\n",
    "print(\"Apres échange :\")\n",
    "print(\"\\tt[0] =\", t[0], \"\\tt[iMin] =\", t[iMin])"
   ]
  },
  {
   "cell_type": "markdown",
   "metadata": {},
   "source": [
    " Numéro 13\n",
    "\n",
    "\n",
    "Comme précédemment, il s'agit d'écrire, d'une part, un programme principal et, d'autre part, une fonction utilisée dans le programme principal.\n",
    "\n",
    "La fonction listAleaFloat(n) retourne une liste de n flottants aléatoires en utilisant la fonction random() du module random.\n",
    "\n",
    "Dans le programme principal :\n",
    "\n",
    "    saisir un entier n dans l'intervalle : [2 .. 100] ;\n",
    "    construire la liste en appelant la fonction listAleaFloat() ;\n",
    "    afficher l'amplitude du tableau (écart entre sa plus grande et sa plus petite valeur) ;\n",
    "    afficher la moyenne du tableau.\n",
    "\n"
   ]
  },
  {
   "cell_type": "code",
   "execution_count": 57,
   "metadata": {},
   "outputs": [
    {
     "name": "stdout",
     "output_type": "stream",
     "text": [
      "Entrez un entier [2 .. 100] :200\n",
      "Entrez un entier [2 .. 100], s.v.p. :1\n",
      "Entrez un entier [2 .. 100], s.v.p. :0\n",
      "Entrez un entier [2 .. 100], s.v.p. :100\n",
      " Amplitude ist 0.984735123434071\n",
      " moyenne ist 0.5167354898751474\n"
     ]
    }
   ],
   "source": [
    "\"\"\"Amplitude et moyenne d'une liste de flottants.\"\"\"\n",
    "\n",
    "from random import seed, random\n",
    "\n",
    "# Définition de fonction\n",
    "\n",
    "def listAleaFloat(n) :\n",
    "    \"Retourne une liste de <n> flottants aléatoires\"\n",
    "    return [random() for i in range(n)]\n",
    "\n",
    "# Programme principal\n",
    "n = int(input(\"Entrez un entier [2 .. 100] :\"))\n",
    "while not(n >= 2 and n <= 100) :\n",
    "    n = int(input(\"Entrez un entier [2 .. 100], s.v.p. :\"))\n",
    "\n",
    "seed() # initialise le générateur de nombres aléatoires\n",
    "t = listAleaFloat(n) # construction de la liste\n",
    "\n",
    "print(\" Amplitude ist {}\".format(max(t)- min(t)))\n",
    "print(\" moyenne ist {}\".format(sum(t)/n))"
   ]
  },
  {
   "cell_type": "code",
   "execution_count": 58,
   "metadata": {},
   "outputs": [
    {
     "name": "stdout",
     "output_type": "stream",
     "text": [
      "Entrez un entier [2 .. 100] :1\n",
      " Amplitude ist 0.0\n",
      " moyenne ist 0.4073769338343032\n"
     ]
    }
   ],
   "source": [
    "\"\"\"Amplitude et moyenne d'une liste de flottants.\"\"\"\n",
    "\n",
    "from random import seed, random\n",
    "\n",
    "# Définition de fonction\n",
    "\n",
    "def listAleaFloat(n) :\n",
    "    \"Retourne une liste de <n> flottants aléatoires\"\n",
    "    return [random() for i in range(n)]\n",
    "\n",
    "# Programme principal\n",
    "n = int(input(\"Entrez un entier [2 .. 100] :\"))\n",
    "while (n >= 2 and n <= 100) :\n",
    "    n = int(input(\"Entrez un entier [2 .. 100], s.v.p. :\"))\n",
    "\n",
    "seed() # initialise le générateur de nombres aléatoires\n",
    "t = listAleaFloat(n) # construction de la liste\n",
    "\n",
    "print(\" Amplitude ist {}\".format(max(t)- min(t)))\n",
    "print(\" moyenne ist {}\".format(sum(t)/n))"
   ]
  },
  {
   "cell_type": "markdown",
   "metadata": {},
   "source": [
    " Numéro 14\n",
    "▲\n",
    "\n",
    "Fonction renvoyant plusieurs valeurs sous forme d'un tuple.\n",
    "\n",
    "Écrire une fonction minMaxMoy() qui reçoit une liste d'entiers et qui renvoie le minimum, le maximum et la moyenne de cette liste. Le programme principal appellera cette fonction avec la liste : [10, 18, 14, 20, 12, 16].\n"
   ]
  },
  {
   "cell_type": "code",
   "execution_count": 64,
   "metadata": {},
   "outputs": [
    {
     "name": "stdout",
     "output_type": "stream",
     "text": [
      "liste = [10, 18, 14, 20, 12, 16]\n",
      "min : 10, max : 20, moy : 15.0\n"
     ]
    }
   ],
   "source": [
    "# -*- coding : utf8 -*-\n",
    "\"\"\"Min, max et moyenne d'une liste d'entiers.\"\"\"\n",
    "\n",
    "# Définition de fonction ~~~~~~~~~~~~~~~~~~~~~~~~~~~~~~~~~~~~~~~~~~~~~~~~~~~~~~\n",
    "def minMaxMoy(liste) :\n",
    "    \"\"\"Renvoie le min, le max et la moyenne de la liste.\"\"\"\n",
    "    min, max, som = liste[0], liste[0], float(liste[0])\n",
    "    for i in liste[1:]:\n",
    "        if i < min :\n",
    "            min = i\n",
    "        if i > max :\n",
    "            max = i\n",
    "        som += i\n",
    "    return (min, max, som/len(liste))\n",
    "\n",
    "# Programme principal =========================================================\n",
    "lp = [10, 18, 14, 20, 12, 16]\n",
    "\n",
    "print(\"liste =\", lp)\n",
    "l = minMaxMoy(lp)\n",
    "print(\"min : {0[0]}, max : {0[1]}, moy : {0[2]}\".format(l))"
   ]
  },
  {
   "cell_type": "markdown",
   "metadata": {},
   "source": [
    ". Numéro 15\n",
    "▲\n",
    "\n",
    "Saisir un entier entre 1 et 3999 (pourquoi cette limitation ?). L'afficher en nombre romain.\n"
   ]
  },
  {
   "cell_type": "code",
   "execution_count": null,
   "metadata": {},
   "outputs": [],
   "source": []
  },
  {
   "cell_type": "code",
   "execution_count": null,
   "metadata": {},
   "outputs": [],
   "source": []
  }
 ],
 "metadata": {
  "kernelspec": {
   "display_name": "Python 3",
   "language": "python",
   "name": "python3"
  },
  "language_info": {
   "codemirror_mode": {
    "name": "ipython",
    "version": 3
   },
   "file_extension": ".py",
   "mimetype": "text/x-python",
   "name": "python",
   "nbconvert_exporter": "python",
   "pygments_lexer": "ipython3",
   "version": "3.8.3"
  }
 },
 "nbformat": 4,
 "nbformat_minor": 4
}
