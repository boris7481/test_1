{
 "cells": [
  {
   "cell_type": "markdown",
   "metadata": {},
   "source": [
    "### Aufgabe: VONG-Generator"
   ]
  },
  {
   "cell_type": "code",
   "execution_count": 1,
   "metadata": {},
   "outputs": [],
   "source": [
    "vong_mapping = {\n",
    "              \"hallo\" : \"halo\",\n",
    "                 \"ich\" : \"i\",\n",
    "                \"bin*s\" : \"bins\"\n",
    "              }"
   ]
  },
  {
   "cell_type": "code",
   "execution_count": 2,
   "metadata": {},
   "outputs": [],
   "source": [
    "# en faite ici c est le loesung je croissentences = \" hallo, ich bin's !\""
   ]
  },
  {
   "cell_type": "code",
   "execution_count": 3,
   "metadata": {},
   "outputs": [],
   "source": [
    "sentences = \" hallo, ich bin`s\""
   ]
  },
  {
   "cell_type": "code",
   "execution_count": 4,
   "metadata": {},
   "outputs": [],
   "source": [
    "for key in vong_mapping.keys() :\n",
    "    sentences = sentences.replace(key , vong_mapping[key])"
   ]
  },
  {
   "cell_type": "code",
   "execution_count": 5,
   "metadata": {},
   "outputs": [
    {
     "name": "stdout",
     "output_type": "stream",
     "text": [
      " halo, i bin`s\n"
     ]
    }
   ],
   "source": [
    "print(sentences)"
   ]
  },
  {
   "cell_type": "code",
   "execution_count": 6,
   "metadata": {},
   "outputs": [],
   "source": [
    "import numpy as np\n",
    "import matplotlib.pyplot as plt"
   ]
  },
  {
   "cell_type": "markdown",
   "metadata": {},
   "source": [
    "### Aufgabe: Kugelvolumina berechnen"
   ]
  },
  {
   "cell_type": "code",
   "execution_count": 7,
   "metadata": {},
   "outputs": [
    {
     "data": {
      "text/plain": [
       "[0, 1, 2, 3, 4, 5, 6, 7, 8, 9]"
      ]
     },
     "execution_count": 7,
     "metadata": {},
     "output_type": "execute_result"
    }
   ],
   "source": [
    "list_of_radii = list(range(10))\n",
    "list_of_radii"
   ]
  },
  {
   "cell_type": "code",
   "execution_count": 8,
   "metadata": {},
   "outputs": [
    {
     "name": "stdout",
     "output_type": "stream",
     "text": [
      " Kugelvolumina bei einem radius von 0 ist 0.0\n",
      " Kugelvolumina bei einem radius von 1 ist 4.1979999999999995\n",
      " Kugelvolumina bei einem radius von 2 ist 33.583999999999996\n",
      " Kugelvolumina bei einem radius von 3 ist 113.34599999999999\n",
      " Kugelvolumina bei einem radius von 4 ist 268.67199999999997\n",
      " Kugelvolumina bei einem radius von 5 ist 524.7499999999999\n",
      " Kugelvolumina bei einem radius von 6 ist 906.7679999999999\n",
      " Kugelvolumina bei einem radius von 7 ist 1439.9139999999998\n",
      " Kugelvolumina bei einem radius von 8 ist 2149.3759999999997\n",
      " Kugelvolumina bei einem radius von 9 ist 3060.3419999999996\n"
     ]
    }
   ],
   "source": [
    "list_of_volumina = []\n",
    "for radius in list_of_radii :\n",
    "    volume_of_sphre = 4/3* 3.1485 * radius ** 3\n",
    "    print(f\" Kugelvolumina bei einem radius von {radius} ist {volume_of_sphre}\")\n",
    "    list_of_volumina.append(volume_of_sphre)"
   ]
  },
  {
   "cell_type": "code",
   "execution_count": 9,
   "metadata": {},
   "outputs": [
    {
     "data": {
      "text/plain": [
       "[<matplotlib.lines.Line2D at 0x1fceb64b820>]"
      ]
     },
     "execution_count": 9,
     "metadata": {},
     "output_type": "execute_result"
    },
    {
     "data": {
      "image/png": "[encoded data removed]",
      "text/plain": [
       "<Figure size 720x360 with 1 Axes>"
      ]
     },
     "metadata": {
      "needs_background": "light"
     },
     "output_type": "display_data"
    }
   ],
   "source": [
    "plt.figure(figsize=(10,5))\n",
    "plt.xlabel(\" Y-Achse\")\n",
    "plt.ylabel(\" Y-Achse\")\n",
    "plt.legend(\" Volumen_Sphre\")\n",
    "plt.plot(list_of_volumina)"
   ]
  },
  {
   "cell_type": "markdown",
   "metadata": {},
   "source": [
    "### Aufgabe: Coin Flip Streaks"
   ]
  },
  {
   "cell_type": "code",
   "execution_count": 10,
   "metadata": {},
   "outputs": [],
   "source": [
    "# Create list of coin flips"
   ]
  },
  {
   "cell_type": "code",
   "execution_count": 11,
   "metadata": {},
   "outputs": [],
   "source": [
    "list_of_coin_flips = []"
   ]
  },
  {
   "cell_type": "code",
   "execution_count": 12,
   "metadata": {},
   "outputs": [],
   "source": [
    "from numpy import random\n",
    "# Initialize\\ze\n",
    "list_of_coin_flips = []\n",
    "values = ['T', 'H']"
   ]
  },
  {
   "cell_type": "code",
   "execution_count": 13,
   "metadata": {},
   "outputs": [],
   "source": [
    "# Create list of coin flips\n",
    "for i in range(100):\n",
    "    r = random.randint(0, 2)\n",
    "    list_of_coin_flips.append(values[r])"
   ]
  },
  {
   "cell_type": "code",
   "execution_count": 14,
   "metadata": {},
   "outputs": [
    {
     "data": {
      "text/plain": [
       "6"
      ]
     },
     "execution_count": 14,
     "metadata": {},
     "output_type": "execute_result"
    }
   ],
   "source": [
    "# Count streaks\\n\",\n",
    "string_of_coin_flips = ''.join(list_of_coin_flips)\n",
    "number_of_streaks = string_of_coin_flips.count('TTTT')\n",
    "number_of_streaks"
   ]
  },
  {
   "cell_type": "markdown",
   "metadata": {},
   "source": [
    "### Aufgabe: Simple Data Size Reduction"
   ]
  },
  {
   "cell_type": "code",
   "execution_count": 15,
   "metadata": {},
   "outputs": [],
   "source": [
    "list_of_time_series = [\n",
    "        list(np.round(np.random.rand(20) * 100) / 10),\n",
    "        list(np.round(np.random.rand(20) * 100) / 10),\n",
    "        list(np.round(np.random.rand(20) * 100) / 10),\n",
    "        list(np.round(np.random.rand(20) * 100) / 10)\n",
    "    ]"
   ]
  },
  {
   "cell_type": "code",
   "execution_count": 16,
   "metadata": {},
   "outputs": [],
   "source": [
    "# list(np.round(np.random.rand(20) * 100) / 10)"
   ]
  },
  {
   "cell_type": "code",
   "execution_count": 17,
   "metadata": {},
   "outputs": [],
   "source": [
    "list_of_shortened_time_series = []\n",
    "for time_series in list_of_time_series:\n",
    "        shortened_time_series = time_series[::2]\n",
    "        list_of_shortened_time_series.append(shortened_time_series)"
   ]
  },
  {
   "cell_type": "code",
   "execution_count": 18,
   "metadata": {},
   "outputs": [
    {
     "name": "stdout",
     "output_type": "stream",
     "text": [
      "[[2.1, 9.6, 9.0, 0.6, 5.5, 0.4, 9.5, 6.9, 2.8, 8.9], [2.6, 3.9, 6.2, 9.1, 0.9, 5.8, 7.4, 9.1, 2.7, 9.3], [5.4, 6.5, 6.9, 3.3, 1.6, 8.2, 9.4, 4.2, 9.7, 9.3], [3.7, 1.1, 0.1, 2.9, 5.0, 3.1, 9.5, 8.1, 7.3, 5.9]]\n"
     ]
    }
   ],
   "source": [
    "print(list_of_shortened_time_series)"
   ]
  },
  {
   "cell_type": "code",
   "execution_count": 19,
   "metadata": {},
   "outputs": [],
   "source": [
    "list_of_shortened_time_series = []\n",
    "list_of_shortened_time_series = [time_series[::2] for time_series in list_of_time_series]"
   ]
  },
  {
   "cell_type": "code",
   "execution_count": 20,
   "metadata": {},
   "outputs": [
    {
     "name": "stdout",
     "output_type": "stream",
     "text": [
      "[[2.1, 9.6, 9.0, 0.6, 5.5, 0.4, 9.5, 6.9, 2.8, 8.9], [2.6, 3.9, 6.2, 9.1, 0.9, 5.8, 7.4, 9.1, 2.7, 9.3], [5.4, 6.5, 6.9, 3.3, 1.6, 8.2, 9.4, 4.2, 9.7, 9.3], [3.7, 1.1, 0.1, 2.9, 5.0, 3.1, 9.5, 8.1, 7.3, 5.9]]\n"
     ]
    }
   ],
   "source": [
    "print(list_of_shortened_time_series)"
   ]
  },
  {
   "cell_type": "markdown",
   "metadata": {},
   "source": [
    "### Aufgabe: Coin Flip Streaks"
   ]
  },
  {
   "cell_type": "code",
   "execution_count": 21,
   "metadata": {},
   "outputs": [],
   "source": [
    "import numpy as np\n",
    "from numpy import random"
   ]
  },
  {
   "cell_type": "code",
   "execution_count": 22,
   "metadata": {},
   "outputs": [],
   "source": [
    "# Create list of coin flips\n",
    "list_of_coin_flips = []\n",
    "for i in range(100):\n",
    "    r = random.randint(1,2)\n",
    "    list_of_coin_flips.append(values[r])"
   ]
  },
  {
   "cell_type": "code",
   "execution_count": 23,
   "metadata": {},
   "outputs": [
    {
     "data": {
      "text/plain": [
       "0"
      ]
     },
     "execution_count": 23,
     "metadata": {},
     "output_type": "execute_result"
    }
   ],
   "source": [
    "# Count streaks\n",
    "string_of_coin_flips = \" \".join(list_of_coin_flips)\n",
    "number_of_streaks = string_of_coin_flips.count(\"TTTT\")\n",
    "number_of_streaks"
   ]
  },
  {
   "cell_type": "code",
   "execution_count": 24,
   "metadata": {},
   "outputs": [],
   "source": [
    "import random\n",
    "# Initialize\n",
    "list_of_coin_flips =[]\n",
    "values = [\"T\" , \"H\"]"
   ]
  },
  {
   "cell_type": "code",
   "execution_count": 25,
   "metadata": {},
   "outputs": [],
   "source": [
    "# Create list of coin flips\n",
    "list_of_coin_flips = random.choices(values, k=100)"
   ]
  },
  {
   "cell_type": "code",
   "execution_count": 26,
   "metadata": {},
   "outputs": [
    {
     "data": {
      "text/plain": [
       "0"
      ]
     },
     "execution_count": 26,
     "metadata": {},
     "output_type": "execute_result"
    }
   ],
   "source": [
    "# Count streaks\n",
    "string_of_coin_flips = \" \".join(list_of_coin_flips)\n",
    "number_of_streaks = string_of_coin_flips.count('TTTT')\n",
    "number_of_streaks"
   ]
  },
  {
   "cell_type": "code",
   "execution_count": 27,
   "metadata": {},
   "outputs": [],
   "source": [
    "# Create list of coin flips\n",
    "list_of_coin_flips = []\n",
    "for n_flip in range(100):\n",
    "    randon_number = np.random.rand()\n",
    "    if randon_number > .5:\n",
    "        list_of_coin_flips.append(\"H\")\n",
    "    else:\n",
    "       list_of_coin_flips.append(\"T\") "
   ]
  },
  {
   "cell_type": "code",
   "execution_count": 28,
   "metadata": {},
   "outputs": [
    {
     "data": {
      "text/plain": [
       "3"
      ]
     },
     "execution_count": 28,
     "metadata": {},
     "output_type": "execute_result"
    }
   ],
   "source": [
    "# Count streaks\n",
    "string_of_coin_flips = ''.join(list_of_coin_flips)\n",
    "string_of_coin_flips.count('TTT')"
   ]
  },
  {
   "cell_type": "markdown",
   "metadata": {},
   "source": [
    "### Aufgabe: Wer verdient am meisten? Welche Maschine verbraucht am Meisten? a revoir car je n ouvre pas le fichier"
   ]
  },
  {
   "cell_type": "code",
   "execution_count": 57,
   "metadata": {},
   "outputs": [],
   "source": [
    "import json\n",
    "import numpy as np\n",
    "import pandas as pd"
   ]
  },
  {
   "cell_type": "code",
   "execution_count": 82,
   "metadata": {},
   "outputs": [],
   "source": [
    "with open('dict_as_json.json', 'r') as file:\n",
    "    dict_from_json = json.load(file)"
   ]
  },
  {
   "cell_type": "markdown",
   "metadata": {},
   "source": [
    "#### Generate Data"
   ]
  },
  {
   "cell_type": "code",
   "execution_count": 83,
   "metadata": {},
   "outputs": [],
   "source": [
    "array_of_ids = np.random.randint(10000 , 99999, size =(200,1))\n",
    "array_of_ids = [f'M_{item[0]}' for item in array_of_ids]\n",
    "array_of_ids = np.array(array_of_ids).reshape(len(array_of_ids),1)\n",
    "array_of_values = np.random.randint(40000, 150000, size= (200,1))\n",
    "array_of_pairs = np.concatenate((array_of_ids, array_of_values) ,axis =1)\n",
    "df = pd.DataFrame(array_of_pairs, columns=[\"ID\" , \"values\"])\n",
    "df.set_index(\"ID\", inplace = True)\n",
    "dict_of_pairs = df.to_dict()[\"values\"]"
   ]
  },
  {
   "cell_type": "code",
   "execution_count": 69,
   "metadata": {},
   "outputs": [],
   "source": [
    "#array_of_values\n",
    "# axis = 0  ist für die linei\n",
    "# axis = 1 ist für die columns"
   ]
  },
  {
   "cell_type": "code",
   "execution_count": 70,
   "metadata": {},
   "outputs": [],
   "source": [
    "#array_of_ids"
   ]
  },
  {
   "cell_type": "code",
   "execution_count": 71,
   "metadata": {},
   "outputs": [],
   "source": [
    "#array_of_pairs"
   ]
  },
  {
   "cell_type": "code",
   "execution_count": 77,
   "metadata": {},
   "outputs": [],
   "source": [
    "#df"
   ]
  },
  {
   "cell_type": "code",
   "execution_count": 78,
   "metadata": {},
   "outputs": [],
   "source": [
    "#dict_of_pairs"
   ]
  },
  {
   "cell_type": "code",
   "execution_count": 89,
   "metadata": {},
   "outputs": [],
   "source": [
    "with open('dict_as_json.json', 'w') as file: # apprement il faut tjrs ecrire les deux lignes a la foi\n",
    "     json.dump(dict_of_pairs, file, indent=4)"
   ]
  },
  {
   "cell_type": "markdown",
   "metadata": {},
   "source": [
    "#### Lösung"
   ]
  },
  {
   "cell_type": "code",
   "execution_count": 90,
   "metadata": {},
   "outputs": [],
   "source": [
    "# Load darom json\n",
    "with open('dict_as_json.json', 'r') as file:\n",
    "    dict_from_json = json.load(file)"
   ]
  },
  {
   "cell_type": "code",
   "execution_count": 94,
   "metadata": {},
   "outputs": [],
   "source": [
    "# Loop over keys\n",
    "list_of_top_values = []\n",
    "threshold = 80000\n",
    "for (keys, value) in dict_from_json.items():\n",
    "    if int(values) > threshold:\n",
    "        list_of_top_values.append([key, value])"
   ]
  },
  {
   "cell_type": "code",
   "execution_count": 97,
   "metadata": {},
   "outputs": [],
   "source": [
    "# list_of_top_values"
   ]
  },
  {
   "cell_type": "code",
   "execution_count": 100,
   "metadata": {},
   "outputs": [],
   "source": [
    "# Write to CSV\n",
    "array_of_top_values = np.array(list_of_top_values)\n",
    "np.savetxt('./data/top_values.csv', array_of_top_values, fmt='%s, %s')"
   ]
  },
  {
   "cell_type": "code",
   "execution_count": 102,
   "metadata": {},
   "outputs": [],
   "source": [
    "# One-Liner\n",
    "list_of_top_values = []\n",
    "list_of_top_values = [[key, value] for (key, value) in dict_from_json.items() if int(value) > threshold]"
   ]
  },
  {
   "cell_type": "code",
   "execution_count": 105,
   "metadata": {},
   "outputs": [],
   "source": [
    "# One liner for one dim. list\n",
    "# [x for key in dict_from_json.keys() for x in [key, dict_from_json[key]]]"
   ]
  },
  {
   "cell_type": "markdown",
   "metadata": {},
   "source": [
    "### Aufgabe: Illegal Companies"
   ]
  },
  {
   "cell_type": "code",
   "execution_count": 106,
   "metadata": {},
   "outputs": [],
   "source": [
    "# Data\n",
    "companies_dict = {\n",
    "        'CoolCompany': {'employee_1': 33, 'employee_2': 28, 'employee_3': 29},\n",
    "        'CheapCompany': {'employee_1': 4, 'employee_2': 9, 'employee_3': 7},\n",
    "        'SosoCompany': {'employee_1': 38, 'employee_2': 8, 'employee_3': 18},\n",
    "        }"
   ]
  },
  {
   "cell_type": "code",
   "execution_count": 113,
   "metadata": {},
   "outputs": [],
   "source": [
    "minimum_wage = 9.35\n",
    "# which companies operate illegal"
   ]
  },
  {
   "cell_type": "markdown",
   "metadata": {},
   "source": [
    "### loesung"
   ]
  },
  {
   "cell_type": "code",
   "execution_count": 114,
   "metadata": {},
   "outputs": [],
   "source": [
    "list_of_illegal_companies = []\n",
    "for company in companies_dict:\n",
    "    for wage in companies_dict[company].values():\n",
    "        if wage < minimum_wage:\n",
    "            list_of_illegal_companies.append(company)"
   ]
  },
  {
   "cell_type": "code",
   "execution_count": 115,
   "metadata": {},
   "outputs": [],
   "source": [
    "# One Liner\n",
    "list_of_illegal_companies = []\n",
    "list_of_illegal_companies = [company for company in companies_dict if any([wage < minimum_wage for wage in companies_dict[company].values()])]"
   ]
  },
  {
   "cell_type": "code",
   "execution_count": 116,
   "metadata": {},
   "outputs": [
    {
     "data": {
      "text/plain": [
       "['CheapCompany', 'SosoCompany']"
      ]
     },
     "execution_count": 116,
     "metadata": {},
     "output_type": "execute_result"
    }
   ],
   "source": [
    "list_of_illegal_companies"
   ]
  },
  {
   "cell_type": "markdown",
   "metadata": {},
   "source": [
    "### Aufgabe: Geburtstagswahrscheinlichkeiten"
   ]
  },
  {
   "cell_type": "code",
   "execution_count": 117,
   "metadata": {},
   "outputs": [],
   "source": [
    "# shon gemacht und sehr lang"
   ]
  },
  {
   "cell_type": "markdown",
   "metadata": {},
   "source": [
    "### Aufgabext Mining for Beginners"
   ]
  },
  {
   "cell_type": "code",
   "execution_count": 123,
   "metadata": {},
   "outputs": [],
   "source": [
    "# Load data\\n\",\n",
    "file = open('wikipedia_ml.txt', 'r')\n",
    "text_string = file.read()"
   ]
  },
  {
   "cell_type": "code",
   "execution_count": 126,
   "metadata": {},
   "outputs": [],
   "source": [
    "# Loop over lines\n",
    "list_of_lines = []\n",
    "# a revoir "
   ]
  },
  {
   "cell_type": "markdown",
   "metadata": {},
   "source": [
    "### Aufgabe: Foxes & Chickens - Dynamical Systems for everyone"
   ]
  },
  {
   "cell_type": "code",
   "execution_count": null,
   "metadata": {},
   "outputs": [],
   "source": []
  }
 ],
 "metadata": {
  "kernelspec": {
   "display_name": "Python 3",
   "language": "python",
   "name": "python3"
  },
  "language_info": {
   "codemirror_mode": {
    "name": "ipython",
    "version": 3
   },
   "file_extension": ".py",
   "mimetype": "text/x-python",
   "name": "python",
   "nbconvert_exporter": "python",
   "pygments_lexer": "ipython3",
   "version": "3.8.3"
  }
 },
 "nbformat": 4,
 "nbformat_minor": 4
}
