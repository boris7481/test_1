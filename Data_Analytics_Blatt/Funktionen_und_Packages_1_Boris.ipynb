{
 "cells": [
  {
   "cell_type": "markdown",
   "metadata": {},
   "source": [
    "### Beispiel: Function for replacing Domains"
   ]
  },
  {
   "cell_type": "code",
   "execution_count": 1,
   "metadata": {},
   "outputs": [],
   "source": [
    "def replace_domain(mail_adress , new_domain):\n",
    "    # Error handling: number of @-signs != 1\n",
    "    if len(mail_adress.split(\"@\"))!= 2:\n",
    "        raise Exception(\"The mail address you entered does not contain one @-sign.Please check your input.\")\n",
    "     # Get index of at sign\n",
    "    index_at = mail_adress.find(\"@\")\n",
    "    # Replace domain\n",
    "    new_mail_adress = mail_adress.replace(mail_adress[index_at + 1:], new_domain)\n",
    "    return new_mail_adress"
   ]
  },
  {
   "cell_type": "code",
   "execution_count": 2,
   "metadata": {},
   "outputs": [
    {
     "data": {
      "text/plain": [
       "'my.address@oth-regensburg.de'"
      ]
     },
     "execution_count": 2,
     "metadata": {},
     "output_type": "execute_result"
    }
   ],
   "source": [
    "replace_domain('my.address@gmail.com', 'oth-regensburg.de')"
   ]
  },
  {
   "cell_type": "markdown",
   "metadata": {},
   "source": [
    "### Beispiel: Descriptive Statistics Function"
   ]
  },
  {
   "cell_type": "code",
   "execution_count": 3,
   "metadata": {},
   "outputs": [],
   "source": [
    "def some_descriptive_statistics(list_of_values):\n",
    "    mean = sum(list_of_values)/ len(list_of_values)\n",
    "    var = (list_of_values[0] - mean)**2\n",
    "    for value in list_of_values[1:]:\n",
    "        var = var + (value - mean)**2\n",
    "    var = var/ len(list_of_values)\n",
    "    return mean , var"
   ]
  },
  {
   "cell_type": "code",
   "execution_count": 4,
   "metadata": {},
   "outputs": [],
   "source": [
    "mean, var = some_descriptive_statistics([1,3,5,3,2,5,7,8,6,4,3,4,6,8,9,9,7,6])"
   ]
  },
  {
   "cell_type": "code",
   "execution_count": 5,
   "metadata": {},
   "outputs": [
    {
     "name": "stdout",
     "output_type": "stream",
     "text": [
      "the mittelwert is 5.333333333333333\n",
      "the varianz ist 5.444444444444444\n"
     ]
    }
   ],
   "source": [
    "print(f\"the mittelwert is {mean}\")\n",
    "print(f\"the varianz ist {var}\")"
   ]
  },
  {
   "cell_type": "markdown",
   "metadata": {},
   "source": [
    "### Beispiel aus vergangener Vorlesung"
   ]
  },
  {
   "cell_type": "code",
   "execution_count": 6,
   "metadata": {},
   "outputs": [],
   "source": [
    "import numpy as np"
   ]
  },
  {
   "cell_type": "code",
   "execution_count": 38,
   "metadata": {},
   "outputs": [],
   "source": [
    "sales_dict = {\n",
    "       'Baldi': {\n",
    "            '2017': (np.round(np.random.rand(52,) * 1e6)).tolist(),\n",
    "            '2018': (np.round(np.random.rand(52,) * 1e6)).tolist(),\n",
    "            '2019': (np.round(np.random.rand(52,) * 1e6)).tolist()\n",
    "        },\n",
    "        'Friedl': {\n",
    "            '2017': (np.round(np.random.rand(52,) * 1e6)).tolist(),\n",
    "            '2018': (np.round(np.random.rand(52,) * 1e6)).tolist(),\n",
    "            '2019': (np.round(np.random.rand(52,) * 1e6)).tolist() \n",
    "        },\n",
    "        'Pfenny': {\n",
    "            '2017': (np.round(np.random.rand(52,) * 1e6)).tolist(),\n",
    "            '2018': (np.round(np.random.rand(52,) * 1e6)).tolist(),\n",
    "            '2019': (np.round(np.random.rand(52,) * 1e6)).tolist() \n",
    "                   }\n",
    "                      }"
   ]
  },
  {
   "cell_type": "markdown",
   "metadata": {},
   "source": [
    "### Beispiel: Function for calculating 7-day-per-1e5-SARS-CoV-2-Incidence"
   ]
  },
  {
   "cell_type": "code",
   "execution_count": null,
   "metadata": {},
   "outputs": [],
   "source": []
  }
 ],
 "metadata": {
  "kernelspec": {
   "display_name": "Python 3",
   "language": "python",
   "name": "python3"
  },
  "language_info": {
   "codemirror_mode": {
    "name": "ipython",
    "version": 3
   },
   "file_extension": ".py",
   "mimetype": "text/x-python",
   "name": "python",
   "nbconvert_exporter": "python",
   "pygments_lexer": "ipython3",
   "version": "3.8.3"
  }
 },
 "nbformat": 4,
 "nbformat_minor": 4
}
