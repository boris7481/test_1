{
 "cells": [
  {
   "cell_type": "code",
   "execution_count": 1,
   "metadata": {},
   "outputs": [],
   "source": [
    "### Aufgabe: Tage in Stunden, Minuten und Sekunden konvertieren\\n\",\n",
    "###        \"\\\\#assignment \\\\#input \\\\#int \\\\#fstrings \\\\#arithmetics\\n\",\n",
    "   ###      \"\\n\",\n",
    "      ###   \"Schreiben Sie ein Programm, das den User nach einer Anzahl an Tagen fragt, die er gerne in Stunden, Minuten und Sekunden ausgerückt haben will.\\n\",\n",
    "         ### \"Geben Sie dies in geeigneten `print()`-Statements aus.\""
   ]
  },
  {
   "cell_type": "code",
   "execution_count": 2,
   "metadata": {},
   "outputs": [
    {
     "name": "stdout",
     "output_type": "stream",
     "text": [
      "100\n"
     ]
    }
   ],
   "source": [
    "days = int(input())"
   ]
  },
  {
   "cell_type": "code",
   "execution_count": 3,
   "metadata": {},
   "outputs": [],
   "source": [
    "hours = days * 24\n",
    "minutes = hours * 60\n",
    "seconds = minutes * 60"
   ]
  },
  {
   "cell_type": "code",
   "execution_count": 4,
   "metadata": {},
   "outputs": [
    {
     "name": "stdout",
     "output_type": "stream",
     "text": [
      "99 Tage bestehen aus \n"
     ]
    }
   ],
   "source": [
    "print(\"99 Tage bestehen aus \")"
   ]
  },
  {
   "cell_type": "code",
   "execution_count": 5,
   "metadata": {},
   "outputs": [
    {
     "name": "stdout",
     "output_type": "stream",
     "text": [
      "Bitte geben Sie eine Anzahl an Tagen ein, die konvertiert werden soll:36\n"
     ]
    }
   ],
   "source": [
    "days = int(input(\"Bitte geben Sie eine Anzahl an Tagen ein, die konvertiert werden soll:\"))"
   ]
  },
  {
   "cell_type": "code",
   "execution_count": 6,
   "metadata": {},
   "outputs": [],
   "source": [
    "hours = days*60\n",
    "Minuten = hours*60\n",
    "sekunden = Minuten*60"
   ]
  },
  {
   "cell_type": "code",
   "execution_count": 7,
   "metadata": {},
   "outputs": [
    {
     "name": "stdout",
     "output_type": "stream",
     "text": [
      "36 tage bestehen aus 2160 hours\n",
      "2160 hours bestehen aus 129600 Minuten\n",
      "129600 Minuten bestehen aus 7776000 sekunden\n"
     ]
    }
   ],
   "source": [
    "print(\"{} tage bestehen aus {} hours\".format(days, hours))\n",
    "print(\"{} hours bestehen aus {} Minuten\".format(hours, Minuten))\n",
    "print(\"{} Minuten bestehen aus {} sekunden\".format(Minuten, sekunden))\n",
    "# die Werte on den klammer der format funktion können auch durch die indizen ersetz werden"
   ]
  },
  {
   "cell_type": "code",
   "execution_count": 8,
   "metadata": {},
   "outputs": [
    {
     "name": "stdout",
     "output_type": "stream",
     "text": [
      "36 tage bestehen aus 2160 hours\n",
      "2160 hours bestehen aus 129600 Minuten\n",
      "129600 Minuten bestehen aus 7776000 sekunden\n"
     ]
    }
   ],
   "source": [
    "print(f\"{days} tage bestehen aus {hours} hours\")\n",
    "print(f\"{hours} hours bestehen aus {Minuten} Minuten\")\n",
    "print(f\"{Minuten} Minuten bestehen aus {sekunden} sekunden\")\n",
    "# hier mit den F-String"
   ]
  },
  {
   "cell_type": "markdown",
   "metadata": {},
   "source": [
    "### Aufgabe: Dreisatz"
   ]
  },
  {
   "cell_type": "code",
   "execution_count": 9,
   "metadata": {},
   "outputs": [],
   "source": [
    "units_of_A = 3\n",
    "units_of_B = 50\n",
    "units_of_C = 2\n",
    "units_of_D = (units_of_B * units_of_C) / units_of_A\n",
    "# das Prinzip is das gleiche für die nachfolgende Aufgabe."
   ]
  },
  {
   "cell_type": "code",
   "execution_count": 10,
   "metadata": {},
   "outputs": [
    {
     "name": "stdout",
     "output_type": "stream",
     "text": [
      "50 Kg kostet 33.333333333333336 Euro\n"
     ]
    }
   ],
   "source": [
    "print(f\"{units_of_B} Kg kostet {units_of_D} Euro\")"
   ]
  },
  {
   "cell_type": "markdown",
   "metadata": {},
   "source": [
    "### Aufgabe: Geburtstagsparadoxon"
   ]
  },
  {
   "cell_type": "code",
   "execution_count": 11,
   "metadata": {},
   "outputs": [],
   "source": [
    "from numpy import exp"
   ]
  },
  {
   "cell_type": "code",
   "execution_count": 18,
   "metadata": {},
   "outputs": [
    {
     "name": "stdout",
     "output_type": "stream",
     "text": [
      "geben sie die Anzahl der Personen im Raum an :100\n"
     ]
    }
   ],
   "source": [
    "number_of_person = input(\"geben sie die Anzahl der Personen im Raum an :\")"
   ]
  },
  {
   "cell_type": "code",
   "execution_count": 19,
   "metadata": {},
   "outputs": [
    {
     "data": {
      "text/plain": [
       "100"
      ]
     },
     "execution_count": 19,
     "metadata": {},
     "output_type": "execute_result"
    }
   ],
   "source": [
    "number_of_persons = int(number_of_person)\n",
    "number_of_persons"
   ]
  },
  {
   "cell_type": "code",
   "execution_count": 20,
   "metadata": {},
   "outputs": [],
   "source": [
    "probability_for_two = 1 - exp(-number_of_persons*2/730)"
   ]
  },
  {
   "cell_type": "code",
   "execution_count": 21,
   "metadata": {},
   "outputs": [
    {
     "name": "stdout",
     "output_type": "stream",
     "text": [
      "ie Wahrscheinlichkeit, dass zwei Personen bei einer Gruppe von 100 gleichzeitig Geburtstag haben ist 0.2396470934379984\n"
     ]
    }
   ],
   "source": [
    "print(f\"ie Wahrscheinlichkeit, dass zwei Personen bei einer Gruppe von {number_of_persons} gleichzeitig Geburtstag haben ist {probability_for_two}\")"
   ]
  },
  {
   "cell_type": "markdown",
   "metadata": {},
   "source": [
    "### Aufgabe: wann bin ich halb so alt wie mein Vater?"
   ]
  },
  {
   "cell_type": "code",
   "execution_count": 22,
   "metadata": {},
   "outputs": [],
   "source": [
    "### age_of_friend+x=2(my_age+when_will_i_be_half_as_old)"
   ]
  },
  {
   "cell_type": "code",
   "execution_count": 23,
   "metadata": {},
   "outputs": [],
   "source": [
    "my_age = 36\n",
    "age_of_friend = 69\n",
    "when_will_i_be_half_as_old = age_of_friend - 2*my_age"
   ]
  },
  {
   "cell_type": "code",
   "execution_count": 24,
   "metadata": {},
   "outputs": [
    {
     "name": "stdout",
     "output_type": "stream",
     "text": [
      "in -3  Jahren bin ich halb so alt wie mein Vaterx \n"
     ]
    }
   ],
   "source": [
    "print(f\"in {when_will_i_be_half_as_old}  Jahren bin ich halb so alt wie mein Vaterx \")"
   ]
  },
  {
   "cell_type": "markdown",
   "metadata": {},
   "source": [
    "### Aufgabe: Non-Sense Generator"
   ]
  },
  {
   "cell_type": "code",
   "execution_count": 27,
   "metadata": {},
   "outputs": [],
   "source": [
    "sentence_parts_left = ['Ich studiere gerne an der OTH Regensburg',\n",
    "                         'Heute Abend werde ich mit dem Bus nach Hause fahren',\n",
    "                          'Morgenstund hat Gold im Mund',\n",
    "                          'Zum Brotbacken benötigt man Mehl']\n",
    "\n",
    "sentence_parts_right = [', da die Wolken schnell vorüberziehen.',\n",
    "                          ' und man braucht Wasser.',\n",
    "                           ', damit man im Winter nicht ausrutscht.',\n",
    "                           ', womit ich den Jackpot gewonnen habe.']"
   ]
  },
  {
   "cell_type": "code",
   "execution_count": 28,
   "metadata": {},
   "outputs": [],
   "source": [
    "from random import randrange"
   ]
  },
  {
   "cell_type": "code",
   "execution_count": 29,
   "metadata": {},
   "outputs": [],
   "source": [
    "index_left = randrange(0, 3)\n",
    "index_right = randrange(0, 3)"
   ]
  },
  {
   "cell_type": "markdown",
   "metadata": {},
   "source": [
    "### Einkaufszetell"
   ]
  },
  {
   "cell_type": "code",
   "execution_count": 43,
   "metadata": {},
   "outputs": [],
   "source": [
    "groceries_list = []"
   ]
  },
  {
   "cell_type": "code",
   "execution_count": 44,
   "metadata": {},
   "outputs": [
    {
     "name": "stdout",
     "output_type": "stream",
     "text": [
      " Was kommt auf mein Einkaufszettel10,2,3\n"
     ]
    }
   ],
   "source": [
    "new_groceries_item  = input(\" Was kommt auf mein Einkaufszettel\")"
   ]
  },
  {
   "cell_type": "code",
   "execution_count": 45,
   "metadata": {},
   "outputs": [
    {
     "data": {
      "text/plain": [
       "['10,2,3']"
      ]
     },
     "execution_count": 45,
     "metadata": {},
     "output_type": "execute_result"
    }
   ],
   "source": [
    "groceries_list.append(new_groceries_item)\n",
    "groceries_list"
   ]
  },
  {
   "cell_type": "markdown",
   "metadata": {},
   "source": [
    "### Messreihe"
   ]
  },
  {
   "cell_type": "code",
   "execution_count": 47,
   "metadata": {},
   "outputs": [],
   "source": [
    "import matplotlib.pyplot as plt"
   ]
  },
  {
   "cell_type": "code",
   "execution_count": 49,
   "metadata": {},
   "outputs": [],
   "source": [
    "# Data\n",
    "one_cycle = [-99, 60,62,64,68, 77, 80, 76, 71, 66, 61, 60, -99]\n",
    "# Plot one cycle"
   ]
  },
  {
   "cell_type": "code",
   "execution_count": 50,
   "metadata": {},
   "outputs": [
    {
     "data": {
      "text/plain": [
       "[<matplotlib.lines.Line2D at 0x1bb962ff700>]"
      ]
     },
     "execution_count": 50,
     "metadata": {},
     "output_type": "execute_result"
    },
    {
     "data": {
      "image/png": "[encoded data removed]",
      "text/plain": [
       "<Figure size 432x288 with 1 Axes>"
      ]
     },
     "metadata": {
      "needs_background": "light"
     },
     "output_type": "display_data"
    }
   ],
   "source": [
    "plt.plot(one_cycle)"
   ]
  },
  {
   "cell_type": "code",
   "execution_count": 54,
   "metadata": {},
   "outputs": [
    {
     "data": {
      "text/plain": [
       "[60,\n",
       " 62,\n",
       " 64,\n",
       " 68,\n",
       " 77,\n",
       " 80,\n",
       " 76,\n",
       " 71,\n",
       " 66,\n",
       " 61,\n",
       " 60,\n",
       " 60,\n",
       " 62,\n",
       " 64,\n",
       " 68,\n",
       " 77,\n",
       " 80,\n",
       " 76,\n",
       " 71,\n",
       " 66,\n",
       " 61,\n",
       " 60,\n",
       " 60,\n",
       " 62,\n",
       " 64,\n",
       " 68,\n",
       " 77,\n",
       " 80,\n",
       " 76,\n",
       " 71,\n",
       " 66,\n",
       " 61,\n",
       " 60,\n",
       " 60,\n",
       " 62,\n",
       " 64,\n",
       " 68,\n",
       " 77,\n",
       " 80,\n",
       " 76,\n",
       " 71,\n",
       " 66,\n",
       " 61,\n",
       " 60,\n",
       " 60,\n",
       " 62,\n",
       " 64,\n",
       " 68,\n",
       " 77,\n",
       " 80,\n",
       " 76,\n",
       " 71,\n",
       " 66,\n",
       " 61,\n",
       " 60,\n",
       " 60,\n",
       " 62,\n",
       " 64,\n",
       " 68,\n",
       " 77,\n",
       " 80,\n",
       " 76,\n",
       " 71,\n",
       " 66,\n",
       " 61,\n",
       " 60,\n",
       " 60,\n",
       " 62,\n",
       " 64,\n",
       " 68,\n",
       " 77,\n",
       " 80,\n",
       " 76,\n",
       " 71,\n",
       " 66,\n",
       " 61,\n",
       " 60,\n",
       " 60,\n",
       " 62,\n",
       " 64,\n",
       " 68,\n",
       " 77,\n",
       " 80,\n",
       " 76,\n",
       " 71,\n",
       " 66,\n",
       " 61,\n",
       " 60,\n",
       " 60,\n",
       " 62,\n",
       " 64,\n",
       " 68,\n",
       " 77,\n",
       " 80,\n",
       " 76,\n",
       " 71,\n",
       " 66,\n",
       " 61,\n",
       " 60,\n",
       " 60,\n",
       " 62,\n",
       " 64,\n",
       " 68,\n",
       " 77,\n",
       " 80,\n",
       " 76,\n",
       " 71,\n",
       " 66,\n",
       " 61,\n",
       " 60]"
      ]
     },
     "execution_count": 54,
     "metadata": {},
     "output_type": "execute_result"
    }
   ],
   "source": [
    "# Slice and list repetition\n",
    "multiple_cycles = one_cycle[1:-1] * 10\n",
    "multiple_cycles"
   ]
  },
  {
   "cell_type": "code",
   "execution_count": 53,
   "metadata": {},
   "outputs": [
    {
     "data": {
      "text/plain": [
       "[<matplotlib.lines.Line2D at 0x1bb9afebbe0>]"
      ]
     },
     "execution_count": 53,
     "metadata": {},
     "output_type": "execute_result"
    },
    {
     "data": {
      "image/png": "[encoded data removed]",
      "text/plain": [
       "<Figure size 432x288 with 1 Axes>"
      ]
     },
     "metadata": {
      "needs_background": "light"
     },
     "output_type": "display_data"
    }
   ],
   "source": [
    "# plot multiple_cycles\n",
    "plt.plot(multiple_cycles)"
   ]
  },
  {
   "cell_type": "markdown",
   "metadata": {},
   "source": [
    "### Dictionaries"
   ]
  },
  {
   "cell_type": "code",
   "execution_count": 66,
   "metadata": {},
   "outputs": [],
   "source": [
    "cycles_dict = {\n",
    "        'cycle_1': [62, 60, 62, 64, 68, 77, 80, 76, 71, 66, 61, 60] * 10,\n",
    "        'cycle_2': [60, 59, 63, 65, 70, 77, 80, 73, 70, 66, 61, 59] * 10,\n",
    "        'cycle_3': [64, 58, 61, 65, 70, 79, 82, 78, 74, 68, 62, 60] * 10,\n",
    "                   }"
   ]
  },
  {
   "cell_type": "code",
   "execution_count": 67,
   "metadata": {},
   "outputs": [],
   "source": [
    "import matplotlib.pyplot as plt"
   ]
  },
  {
   "cell_type": "code",
   "execution_count": 80,
   "metadata": {},
   "outputs": [
    {
     "data": {
      "text/plain": [
       "[<matplotlib.lines.Line2D at 0x1bb9b278e50>]"
      ]
     },
     "execution_count": 80,
     "metadata": {},
     "output_type": "execute_result"
    },
    {
     "data": {
      "image/png": "[encoded data removed]",
      "text/plain": [
       "<Figure size 432x288 with 1 Axes>"
      ]
     },
     "metadata": {
      "needs_background": "light"
     },
     "output_type": "display_data"
    }
   ],
   "source": [
    "# Plot each cycle\n",
    "plt.plot(cycles_dict[\"cycle_1\"])\n",
    "plt.plot(cycles_dict[\"cycle_2\"])\n",
    "plt.plot(cycles_dict[\"cycle_3\"])"
   ]
  },
  {
   "cell_type": "code",
   "execution_count": 81,
   "metadata": {},
   "outputs": [],
   "source": [
    "# Clean data\\n\",\n",
    "del cycles_dict['cycle_1'][::12]\n",
    "del cycles_dict['cycle_2'][::12]\n",
    "del cycles_dict['cycle_3'][::12]"
   ]
  },
  {
   "cell_type": "code",
   "execution_count": 83,
   "metadata": {},
   "outputs": [
    {
     "data": {
      "text/plain": [
       "[<matplotlib.lines.Line2D at 0x1bb9b2f1190>]"
      ]
     },
     "execution_count": 83,
     "metadata": {},
     "output_type": "execute_result"
    },
    {
     "data": {
      "image/png": "[encoded data removed]",
      "text/plain": [
       "<Figure size 432x288 with 1 Axes>"
      ]
     },
     "metadata": {
      "needs_background": "light"
     },
     "output_type": "display_data"
    }
   ],
   "source": [
    "# Plot each cycle erneut\n",
    "plt.plot(cycles_dict[\"cycle_1\"])\n",
    "plt.plot(cycles_dict[\"cycle_2\"])\n",
    "plt.plot(cycles_dict[\"cycle_3\"])"
   ]
  },
  {
   "cell_type": "code",
   "execution_count": 84,
   "metadata": {},
   "outputs": [
    {
     "name": "stdout",
     "output_type": "stream",
     "text": [
      "67.65\n",
      "67.46\n",
      "68.73\n"
     ]
    }
   ],
   "source": [
    "# Average of each cycle\\n\",\n",
    "print(sum(cycles_dict['cycle_1'])/len(cycles_dict['cycle_1']))\n",
    "print(sum(cycles_dict['cycle_2'])/len(cycles_dict['cycle_2']))\n",
    "print(sum(cycles_dict['cycle_3'])/len(cycles_dict['cycle_3']))"
   ]
  },
  {
   "cell_type": "code",
   "execution_count": 85,
   "metadata": {},
   "outputs": [
    {
     "data": {
      "text/plain": [
       "[<matplotlib.lines.Line2D at 0x1bb9b32d100>]"
      ]
     },
     "execution_count": 85,
     "metadata": {},
     "output_type": "execute_result"
    },
    {
     "data": {
      "image/png": "[encoded data removed]",
      "text/plain": [
       "<Figure size 432x288 with 1 Axes>"
      ]
     },
     "metadata": {
      "needs_background": "light"
     },
     "output_type": "display_data"
    }
   ],
   "source": [
    "# Mittelwert ploten, das Ergebnis ist sehr interessant\n",
    "plt.plot(sum(cycles_dict['cycle_1'])/len(cycles_dict['cycle_1']))\n",
    "plt.plot(sum(cycles_dict['cycle_2'])/len(cycles_dict['cycle_2']))\n",
    "plt.plot(sum(cycles_dict['cycle_3'])/len(cycles_dict['cycle_3']))"
   ]
  },
  {
   "cell_type": "code",
   "execution_count": null,
   "metadata": {},
   "outputs": [],
   "source": []
  },
  {
   "cell_type": "code",
   "execution_count": null,
   "metadata": {},
   "outputs": [],
   "source": []
  }
 ],
 "metadata": {
  "kernelspec": {
   "display_name": "Python 3",
   "language": "python",
   "name": "python3"
  },
  "language_info": {
   "codemirror_mode": {
    "name": "ipython",
    "version": 3
   },
   "file_extension": ".py",
   "mimetype": "text/x-python",
   "name": "python",
   "nbconvert_exporter": "python",
   "pygments_lexer": "ipython3",
   "version": "3.8.3"
  }
 },
 "nbformat": 4,
 "nbformat_minor": 4
}
