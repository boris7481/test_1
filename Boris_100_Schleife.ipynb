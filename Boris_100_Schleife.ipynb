{
 "cells": [
  {
   "cell_type": "markdown",
   "metadata": {},
   "source": [
    "Exercise 1\n",
    "\n",
    "Write a program that generates a random number (0-10) and ask you to guess it. You have three asserts.\n",
    "\n",
    "    Define a random_number with randit between 0-10.\n",
    "    Initialize guesses_left to 3.\n",
    "    Use a while loop to let the user keep guessing so long as guesses_left is greater than zero.\n",
    "    Ask the user for their guess, just like the second example above.\n",
    "    If they guess correctly, print 'You win!' and break. Decrement guesses_left by one.\n",
    "    Use an else: case after your while loop to print:You lose.\n"
   ]
  },
  {
   "cell_type": "code",
   "execution_count": 9,
   "metadata": {},
   "outputs": [
    {
     "name": "stdout",
     "output_type": "stream",
     "text": [
      " EAnter your guess0\n",
      " EAnter your guess12\n",
      " EAnter your guess10\n",
      " you lose\n"
     ]
    }
   ],
   "source": [
    "from random import randint\n",
    "\n",
    "# generate a number from 1 through 10 inclusive\n",
    "random_number = randint(1,10)\n",
    "\n",
    "guesses_left = 3\n",
    "# start your game\n",
    "while guesses_left > 0 :\n",
    "    guess = int(input(\" EAnter your guess\"))\n",
    "    if guess == random_number:\n",
    "        print(\"you win\")\n",
    "        break\n",
    "    guesses_left-=1\n",
    "else:\n",
    "    print (\" you lose\")"
   ]
  },
  {
   "cell_type": "markdown",
   "metadata": {},
   "source": [
    "Exercise 2\n",
    "\n",
    "Create a for loop that prompts the user for a hobby 3 times, then appends each one to hobbies."
   ]
  },
  {
   "cell_type": "code",
   "execution_count": 10,
   "metadata": {},
   "outputs": [
    {
     "name": "stdout",
     "output_type": "stream",
     "text": [
      "enter hobbyShopping\n",
      "enter hobbyswimming\n",
      "enter hobbygolf\n"
     ]
    }
   ],
   "source": [
    "hobbies = []\n",
    "for i in range(3):\n",
    "    hob = input(\"enter hobby\")\n",
    "    hobbies.append(hob)"
   ]
  },
  {
   "cell_type": "markdown",
   "metadata": {},
   "source": [
    "Exercise 3\n",
    "\n",
    "REmember: The , character after our print statement means that our next print statement keeps printing on the same line. Let's filter out the letter 'A' from our string.\n",
    "\n",
    "phrase = \"A bird in the hand...\"\n",
    "\n",
    "    Do the following for each character in the phrase.\n",
    "    If char is an 'A' or char is an 'a', print 'X', instead of char. Make sure to include the trailing comma.\n",
    "    Otherwise (else:), please print char, with the trailing comma.\n"
   ]
  },
  {
   "cell_type": "code",
   "execution_count": 18,
   "metadata": {},
   "outputs": [
    {
     "name": "stdout",
     "output_type": "stream",
     "text": [
      " \n",
      "X\n",
      " \n",
      "b\n",
      "i\n",
      "r\n",
      "d\n",
      " \n",
      "i\n",
      "n\n",
      " \n",
      "X\n",
      " \n",
      "t\n",
      "h\n",
      "e\n",
      " \n",
      "h\n",
      "X\n",
      "n\n",
      "d\n",
      " \n"
     ]
    }
   ],
   "source": [
    "phrase = \" A bird in a the hand \"\n",
    "for char in phrase:\n",
    "    if char == \"A\" or char == \"a\":\n",
    "        print(\"X\")\n",
    "    else:\n",
    "        print (char)"
   ]
  },
  {
   "cell_type": "markdown",
   "metadata": {},
   "source": [
    "Exercise 4\n",
    "\n",
    "Define a function is_even that will take a number x as input.If x is even, then return True. Otherwise, return False. Note: even means that is divisible by two.Check if it works."
   ]
  },
  {
   "cell_type": "code",
   "execution_count": 19,
   "metadata": {},
   "outputs": [],
   "source": [
    "def is_even(x):\n",
    "    if x%2 == 0 :\n",
    "        return True\n",
    "    else:\n",
    "        return False"
   ]
  },
  {
   "cell_type": "code",
   "execution_count": 20,
   "metadata": {},
   "outputs": [
    {
     "data": {
      "text/plain": [
       "False"
      ]
     },
     "execution_count": 20,
     "metadata": {},
     "output_type": "execute_result"
    }
   ],
   "source": [
    "is_even(7)"
   ]
  },
  {
   "cell_type": "markdown",
   "metadata": {},
   "source": [
    "Exercise 6\n",
    "\n",
    "Let's try a factorial problem. To calculate the factorial of a non-negative integer x, just multiply all the integers from 1 through x. For example: 3! is equal to 123"
   ]
  },
  {
   "cell_type": "code",
   "execution_count": 35,
   "metadata": {},
   "outputs": [],
   "source": [
    "def factorial(x):\n",
    "    count = 1\n",
    "    for i in range(x):\n",
    "        count = count*(i + 1)\n",
    "    return count"
   ]
  },
  {
   "cell_type": "code",
   "execution_count": 36,
   "metadata": {},
   "outputs": [
    {
     "data": {
      "text/plain": [
       "39916800"
      ]
     },
     "execution_count": 36,
     "metadata": {},
     "output_type": "execute_result"
    }
   ],
   "source": [
    "factorial(11)"
   ]
  },
  {
   "cell_type": "markdown",
   "metadata": {},
   "source": [
    "Exercise 7\n",
    "\n",
    "Define a function called count that has two arguments called sequence and item. Return the number of times the item occurs in the list.For example: count([1,2,1,1], 1) should return 3 (because 1 appears 3 times in the list)."
   ]
  },
  {
   "cell_type": "code",
   "execution_count": 49,
   "metadata": {},
   "outputs": [],
   "source": [
    "def count(sequence, item):\n",
    "    total = 0\n",
    "    for x in sequence:\n",
    "        if x == item:\n",
    "            total += 1\n",
    "    return total"
   ]
  },
  {
   "cell_type": "code",
   "execution_count": 50,
   "metadata": {},
   "outputs": [
    {
     "data": {
      "text/plain": [
       "4"
      ]
     },
     "execution_count": 50,
     "metadata": {},
     "output_type": "execute_result"
    }
   ],
   "source": [
    "count([1,2,1,1,1,3],1)"
   ]
  },
  {
   "cell_type": "markdown",
   "metadata": {},
   "source": [
    "Exercise 8\n",
    "\n",
    "Write a function remove_duplicates that takes in a list and removes elements of the list that are the same.For example: remove_duplicates([1,1,2,2]) should return [1,2]."
   ]
  },
  {
   "cell_type": "code",
   "execution_count": 57,
   "metadata": {},
   "outputs": [],
   "source": [
    "def remove_duplicates(lst):\n",
    "    result = []\n",
    "    for item in lst:\n",
    "        if item not in result:\n",
    "            result.append(item)\n",
    "    return result"
   ]
  },
  {
   "cell_type": "code",
   "execution_count": 58,
   "metadata": {},
   "outputs": [
    {
     "data": {
      "text/plain": [
       "[1, 3, 4, 5, 6, 7, 8]"
      ]
     },
     "execution_count": 58,
     "metadata": {},
     "output_type": "execute_result"
    }
   ],
   "source": [
    "remove_duplicates([1,1,3,4,5,6,6,7,7,8,3])"
   ]
  },
  {
   "cell_type": "markdown",
   "metadata": {},
   "source": [
    "Exercise 3\n",
    "\n",
    "Follow the steps:\n",
    "\n",
    "    First, make a list called groceries with the values \"banana\",\"orange\", and \"apple\".\n",
    "    Define this two dictionaries:\n",
    "\n",
    "stock = {\n",
    "    \"banana\": 6,\n",
    "    \"apple\": 0,\n",
    "    \"orange\": 32,\n",
    "    \"pear\": 15\n",
    "}\n",
    "\n",
    "prices = {\n",
    "    \"banana\": 4,\n",
    "    \"apple\": 2,\n",
    "    \"orange\": 1.5,\n",
    "    \"pear\": 3\n",
    "}\n",
    "\n",
    "    Define a function compute_bill that takes one argument food as input. In the function, create a variable total with an initial value of zero.For each item in the food list, add the price of that item to total. Finally, return the total. Ignore whether or not the item you're billing for is in stock.Note that your function should work for any food list.\n",
    "    Make the following changes to your compute_bill function:\n",
    "        While you loop through each item of food, only add the price of the item to total if the item's stock count is greater than zero.\n",
    "        If the item is in stock and after you add the price to the total, subtract one from the item's stock count.\n"
   ]
  },
  {
   "cell_type": "code",
   "execution_count": null,
   "metadata": {},
   "outputs": [],
   "source": []
  }
 ],
 "metadata": {
  "kernelspec": {
   "display_name": "Python 3",
   "language": "python",
   "name": "python3"
  },
  "language_info": {
   "codemirror_mode": {
    "name": "ipython",
    "version": 3
   },
   "file_extension": ".py",
   "mimetype": "text/x-python",
   "name": "python",
   "nbconvert_exporter": "python",
   "pygments_lexer": "ipython3",
   "version": "3.8.3"
  }
 },
 "nbformat": 4,
 "nbformat_minor": 4
}
